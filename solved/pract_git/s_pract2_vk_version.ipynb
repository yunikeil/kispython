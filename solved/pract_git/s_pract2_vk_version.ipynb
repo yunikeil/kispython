{
  "cells": [
    {
      "cell_type": "markdown",
      "metadata": {
        "id": "M2IDhC6cq6eQ"
      },
      "source": [
        "# Практические занятие №3-4"
      ]
    },
    {
      "cell_type": "markdown",
      "metadata": {
        "id": "6ceXryj5q6eS"
      },
      "source": [
        "## 1. Форматирование кода"
      ]
    },
    {
      "cell_type": "markdown",
      "metadata": {
        "id": "ipsb84WAq6eU"
      },
      "source": [
        "**1.1.** (0 баллов)\n",
        "\n",
        "Приведите примеры кода, которые соответствуют нарушениям PEP 8. Для самостоятельной проверки возможно использовать библиотеки [pycodestyle](https://github.com/PyCQA/pycodestyle) для разных сред или [pycodestyle_magic](https://github.com/mattijn/pycodestyle_magic?ysclid=lel3nqbij481632022) для интерактивной среды Jupyter Notebook.\n",
        "\n",
        "1. `E211 whitespace before '('`\n",
        "\n",
        "2. `E225 missing whitespace around operator`\n",
        "\n",
        "3. `E231 missing whitespace after ','`\n",
        "\n",
        "4. `E251 unexpected spaces around keyword / parameter equals`\n",
        "\n",
        "5. `E302 expected 2 blank lines, found 1`\n",
        "\n",
        "6. `E701 multiple statements on one line (colon)`\n",
        "\n",
        "7. `E702 multiple statements on one line (semicolon)`\n",
        "\n",
        "8. `E711 comparison to None should be 'if cond is None:'`\n",
        "\n",
        "9. `E712 comparison to True should be 'if cond is True:' or 'if cond:'`"
      ]
    },
    {
      "cell_type": "markdown",
      "metadata": {
        "id": "mE35en_zq6eW"
      },
      "source": [
        "## 2. Некоторые особенности языка"
      ]
    },
    {
      "cell_type": "markdown",
      "metadata": {
        "id": "LXH4BRjyq6eW"
      },
      "source": [
        "**2.1.** (0 баллов)\n",
        "\n",
        "Объясните, что это за код. Это Питон?\n",
        "\n",
        "```0xfor _ in 'abc'```"
      ]
    },
    {
      "cell_type": "markdown",
      "metadata": {
        "id": "6QHkpy0rq6eY"
      },
      "source": [
        "**2.2.** (0 баллов)\n",
        "\n",
        "Странные результаты приведены ниже. Как такое возможно?"
      ]
    },
    {
      "cell_type": "code",
      "execution_count": null,
      "metadata": {
        "id": "gTuc0Qsbq6eZ",
        "outputId": "bcb4d052-bf0a-4f81-c4e4-35dfc4fe50c7"
      },
      "outputs": [
        {
          "name": "stdout",
          "output_type": "stream",
          "text": [
            "True False\n"
          ]
        }
      ],
      "source": [
        "a = 1\n",
        "b = 1\n",
        "c = 300000 # проверено в Python v3.11\n",
        "d = 300000\n",
        "print(a is b, c is d)"
      ]
    },
    {
      "cell_type": "code",
      "execution_count": null,
      "metadata": {
        "id": "1VpB7_DRq6eb",
        "outputId": "f389133c-39ea-4f46-f1f3-603e2d85c5d4"
      },
      "outputs": [
        {
          "name": "stdout",
          "output_type": "stream",
          "text": [
            "True True False\n"
          ]
        }
      ],
      "source": [
        "a, b = 'py', 'py'\n",
        "c = ''.join(['p', 'y'])\n",
        "print(a is b, a == c, a is c)"
      ]
    },
    {
      "cell_type": "markdown",
      "metadata": {
        "id": "BlwFusd3q6ec"
      },
      "source": [
        "**2.3.** (0.1 балла)\n",
        "\n",
        "В следующем фрагменте по индексу i выбирается одна из трех строк. Сократите код во второй строке **ровно** до 19 символов без использования функций и методов."
      ]
    },
    {
      "cell_type": "code",
      "execution_count": null,
      "metadata": {
        "id": "MIQRpZP-q6ee",
        "outputId": "e5996273-4028-46f0-95a3-22576e3a6c8e"
      },
      "outputs": [
        {
          "data": {
            "text/plain": [
              "'much'"
            ]
          },
          "execution_count": 4,
          "metadata": {},
          "output_type": "execute_result"
        }
      ],
      "source": [
        "i = 0\n",
        "['much','code','wow'][i] # 24 символа"
      ]
    },
    {
      "cell_type": "markdown",
      "metadata": {
        "id": "-nYCGqEHq6ef"
      },
      "source": [
        "## 3. Однострочники\n",
        "\n",
        "Напишите программы-однострочники для следующих задач. Начните с наивных решений и постепенно двигайтесь в сторону решений кратких и изящных. Старайтесь попутно создавать автоматические тесты на случайных входных данных.\n",
        "\n",
        "Определитесь, в каких случаях решение-однострочник является предпочтительным, а в каких – нет."
      ]
    },
    {
      "cell_type": "markdown",
      "metadata": {
        "id": "w5W5qo1wq6eg"
      },
      "source": [
        "**3.1.** (0.1 балла)\n",
        "\n",
        "Преобразовать элементы списка s из строковой в числовую форму.\n",
        "\n",
        "**3.2.** (0.1 балла)\n",
        "\n",
        "Подсчитать количество различных элементов в последовательности s.\n",
        "\n",
        "**3.3.** (0.1 балла)\n",
        "\n",
        "Обратить последовательность s без использования функций.\n",
        "\n",
        "**3.4.** (0.1 балла)\n",
        "\n",
        "Выдать список индексов, на которых найден элемент x в последовательности s.\n",
        "\n",
        "**3.5.** (0.1 балла)\n",
        "\n",
        "Сложить элементы списка s с четными индексами.\n",
        "\n",
        "**3.6.** (0.1 балла)\n",
        "\n",
        "Найти строку максимальной длины в списке строк s.\n",
        "\n",
        "**3.7.** (0.1 балла)\n",
        "\n",
        "Проверить, относится ли число к числам харшад (делящиеся нацело на сумму своих цифр).\n",
        "\n",
        "**3.8.** (0.1 балла)\n",
        "\n",
        "Сгенерировать случайную текстовую строку с заданным максимальным размером.\n",
        "\n",
        "**3.9.** (0.2 балла)\n",
        "\n",
        "Реализовать функцию-однострочник для [RLE-сжатия](https://ru.wikipedia.org/wiki/%D0%9A%D0%BE%D0%B4%D0%B8%D1%80%D0%BE%D0%B2%D0%B0%D0%BD%D0%B8%D0%B5_%D0%B4%D0%BB%D0%B8%D0%BD_%D1%81%D0%B5%D1%80%D0%B8%D0%B9). Разрешается использование модуля [itertools](https://docs.python.org/3/library/itertools.html). Пример работы:\n",
        "\n",
        "```Python\n",
        ">>> rle_encode('ABBCCCDEF')\n",
        "[('A', 1), ('B', 2), ('C', 3), ('D', 1), ('E', 1), ('F', 1)]\n",
        "```"
      ]
    },
    {
      "cell_type": "markdown",
      "metadata": {
        "id": "JN8xBeiKxpie"
      },
      "source": [
        "## 4. Снова математика..."
      ]
    },
    {
      "cell_type": "markdown",
      "metadata": {
        "id": "eBbHgKBP2Ckg"
      },
      "source": [
        "**4.1.** (0.2 балла)\n",
        "\n",
        "Реализовать функцию, вычисляющую поэлементное произведение матриц ([произведение Адамара](https://ru.wikipedia.org/wiki/%D0%9F%D1%80%D0%BE%D0%B8%D0%B7%D0%B2%D0%B5%D0%B4%D0%B5%D0%BD%D0%B8%D0%B5_%D0%90%D0%B4%D0%B0%D0%BC%D0%B0%D1%80%D0%B0)):\n",
        "\n",
        "$$\n",
        "\\begin{align}\n",
        "\\mathrm{multiply}(\\mathbf{A}, \\mathbf{B}) = \\mathbf{A} \\odot \\mathbf{B},\n",
        "\\end{align}\n",
        "$$\n",
        "\n",
        "вычислить значение функции при:\n",
        "\n",
        "$\n",
        "\\mathbf{A} = \\left(\n",
        "\\begin{matrix}\n",
        "    0 & 2 \\\\\n",
        "    3 & 0\n",
        "\\end{matrix}\n",
        "\\right),\n",
        "\\mathbf{B} = \\left(\n",
        "\\begin{matrix}\n",
        "    1 & 4 \\\\\n",
        "    2 & 0\n",
        "\\end{matrix}\n",
        "\\right)\n",
        "$.\n",
        "\n",
        "Внешний тест:\n",
        "\n",
        "*   $multiply(\\mathbf{A},\\mathbf{B}) = [[0, 8], [6, 0]]$"
      ]
    },
    {
      "cell_type": "markdown",
      "metadata": {
        "id": "TVrnE5gaasL9"
      },
      "source": [
        "**4.2.** (0.2 балла)\n",
        "\n",
        "Реализовать функцию, транспонирующую матрицу:\n",
        "\n",
        "$$\n",
        "\\begin{align}\n",
        "\\mathrm{transpose}(\\mathbf{A}) = \\mathbf{A}^T,\n",
        "\\end{align}\n",
        "$$\n",
        "\n",
        "вычислить значение функции при:\n",
        "\n",
        "$\n",
        "\\mathbf{A} = \\left(\n",
        "\\begin{matrix}\n",
        "    0 & 2 & 1 \\\\\n",
        "    1 & 0 & 3 \\\\\n",
        "    0 & 1 & 1\n",
        "\\end{matrix}\n",
        "\\right)\n",
        "$.\n",
        "\n",
        "Элемент матрицы $\\mathbf{C}=\\mathrm{transpose}(\\mathbf{A})$ с индексами $ij$ вычисляют согласно: $\n",
        "{\\displaystyle c_{ij}=a_{ji}}.\n",
        "$\n",
        "\n",
        "Внешний тест:\n",
        "\n",
        "*   $transpose(\\mathbf{A}) = [[0, 1, 0], [2, 0, 1], [1, 3, 1]]$"
      ]
    },
    {
      "cell_type": "markdown",
      "metadata": {
        "id": "-Xy_IduP25vL"
      },
      "source": [
        "**4.3.** (0.3 балла)\n",
        "\n",
        "Реализовать функцию, вычисляющую произведение матриц:\n",
        "\n",
        "$$\n",
        "\\begin{align}\n",
        "\\mathrm{dot}(\\mathbf{A}, \\mathbf{B}) = \\mathbf{A} \\mathbf{B},\n",
        "\\end{align}\n",
        "$$\n",
        "\n",
        "вычислить значение функции при:\n",
        "\n",
        "$\n",
        "\\mathbf{A} = \\left(\n",
        "\\begin{matrix}\n",
        "    1 & 2 \\\\\n",
        "    3 & 4 \\\\\n",
        "    5 & 6\n",
        "\\end{matrix}\n",
        "\\right),\n",
        "\\mathbf{B} = \\left(\n",
        "\\begin{matrix}\n",
        "    1 & 2 & 3 \\\\\n",
        "    4 & 5 & 6\n",
        "\\end{matrix}\n",
        "\\right)\n",
        "$.\n",
        "\n",
        "Элемент матрицы $\\mathbf{C}=\\mathrm{dot}(\\mathbf{A}, \\mathbf{B})$ с индексами $ij$ вычисляют согласно:\n",
        "\n",
        "$$\n",
        "{\\displaystyle c_{ij}=a_{i1}b_{1j}+a_{i2}b_{2j}+\\cdots +a_{in}b_{nj}=\\sum _{k=1}^{n}a_{ik}b_{kj}.}\n",
        "$$\n",
        "\n",
        "Внешний тест:\n",
        "\n",
        "*   $dot(\\mathbf{A},\\mathbf{B}) = [[9, 12, 15], [19, 26, 33], [29, 40, 51]]$"
      ]
    },
    {
      "cell_type": "markdown",
      "metadata": {
        "id": "Iq08PRBBq6eh"
      },
      "source": [
        "## 5. Ассорти из небольших задач"
      ]
    },
    {
      "cell_type": "markdown",
      "metadata": {
        "id": "Ntjk6El6q6eh"
      },
      "source": [
        "**5.1.** (0.2 балла)\n",
        "\n",
        "Напишите функцию generate_groups(), которая компактно генерирует (а не просто выдает готовый) список всех названий групп в том виде, который используется на сайте [ЦАП](https://kispython.ru/).\n",
        "\n",
        "```Python\n",
        "['ИВБО-01-21', 'ИВБО-02-21', 'ИВБО-03-21', 'ИВБО-04-21', 'ИВБО-05-21', 'ИВБО-06-21', 'ИВБО-07-21', 'ИВБО-08-21', 'ИКБО-01-21', 'ИКБО-02-21', ...]\n",
        "```"
      ]
    },
    {
      "cell_type": "code",
      "execution_count": 13,
      "metadata": {},
      "outputs": [
        {
          "name": "stdout",
          "output_type": "stream",
          "text": [
            "ИВБО:\n",
            "ИВБО-01-21 ИВБО-02-21 ИВБО-03-21 \n",
            "ИВБО-04-21 ИВБО-05-21 ИВБО-06-21 \n",
            "ИВБО-07-21 ИВБО-08-21 \n",
            "\n",
            "ИКБО:\n",
            "ИКБО-01-21 ИКБО-02-21 \n",
            "\n"
          ]
        }
      ],
      "source": [
        "data = ['ИВБО-01-21', 'ИВБО-02-21', 'ИВБО-05-21', 'ИВБО-04-21', 'ИВБО-03-21', 'ИВБО-06-21', 'ИВБО-07-21', 'ИВБО-08-21', 'ИКБО-01-21', 'ИКБО-02-21']\n",
        "\n",
        "\n",
        "def generate_groups(dates):\n",
        "    groups_dict = {}\n",
        "    for date in dates:\n",
        "        group = date.split('-')[0]\n",
        "        if group not in groups_dict:\n",
        "            groups_dict[group] = []\n",
        "        groups_dict[group].append(date)\n",
        "    for group in groups_dict:\n",
        "        groups_dict[group].sort()\n",
        "    return groups_dict\n",
        "\n",
        "\n",
        "def print_groups(groups_dict):\n",
        "    for group, dates in groups_dict.items():\n",
        "        print(group + \":\")\n",
        "        for i, date in enumerate(dates):\n",
        "            if i % 3 == 0 and i != 0:\n",
        "                print()\n",
        "            print(date, end=\" \")\n",
        "        print(\"\\n\")\n",
        "\n",
        "\n",
        "print_groups(generate_groups(data))\n"
      ]
    },
    {
      "cell_type": "markdown",
      "metadata": {
        "id": "3-ezDHy3q6ei"
      },
      "source": [
        "**5.2.** (0.2 балла)\n",
        "\n",
        "Реализуйте свою версию print(). Постарайтесь использовать максимум возможностей настоящей [print()](https://docs-python.ru/tutorial/vstroennye-funktsii-interpretatora-python/funktsija-print/). Для вывода используйте функцию [sys.stdout.write()](https://russianblogs.com/article/93851323762/)."
      ]
    },
    {
      "cell_type": "code",
      "execution_count": 14,
      "metadata": {},
      "outputs": [
        {
          "name": "stdout",
          "output_type": "stream",
          "text": [
            "Hello world!\n",
            "1, 2, 3\n",
            "The answer is: 42\n",
            "Some text>>>Some text\n"
          ]
        }
      ],
      "source": [
        "import sys\n",
        "\n",
        "def my_print(*args, sep=' ', end='\\n', file=sys.stdout, flush=False):\n",
        "    \"\"\"\n",
        "    Функция, аналогичная встроенной функции print() в Python.\n",
        "    :param args: объекты, которые нужно вывести на экран.\n",
        "    :param sep: строка-разделитель между объектами (по умолчанию - пробел).\n",
        "    :param end: строка, которую нужно вывести после последнего объекта (по умолчанию - символ новой строки).\n",
        "    :param file: файлоподобный объект, куда нужно вывести данные (по умолчанию - стандартный вывод sys.stdout).\n",
        "    :param flush: флаг, указывающий, нужно ли сбросить буфер вывода (по умолчанию - False).\n",
        "    \"\"\"\n",
        "    for arg in args:\n",
        "        file.write(str(arg))\n",
        "        if arg != args[-1]:\n",
        "            file.write(sep)\n",
        "    file.write(end)\n",
        "    if flush:\n",
        "        file.flush()\n",
        "\n",
        "\n",
        "my_print('Hello', 'world!')                # Hello world!\n",
        "my_print(1, 2, 3, sep=', ')                # 1, 2, 3\n",
        "my_print('The answer is:', 42)             # The answer is: 42\n",
        "my_print('Some text', end='>>>')           # Some text>>>\n",
        "my_print('Some text', flush=True)          # Some text\n"
      ]
    },
    {
      "cell_type": "markdown",
      "metadata": {
        "id": "X80sh3oWq6ei"
      },
      "source": [
        "**5.3.** (0.4 балла)\n",
        "\n",
        "Вы получили зашифрованное сообщение и теперь предстоит его расшифровать:\n",
        "\n",
        "```\n",
        "E3238557 6204A1F8 E6537611 174E5747\n",
        "5D954DA8 8C2DFE97 2911CB4C 2CB7C66B\n",
        "E7F185A0 C7E3FA40 42419867 374044DF\n",
        "2519F07D 5A0C24D4 F4A960C5 31159418\n",
        "F2768EC7 AEAF14CF 071B2C95 C9F22699\n",
        "FFB06F41 2AC90051 A53F035D 830601A7\n",
        "EB475702 183BAA6F 12626744 9B75A72F\n",
        "8DBFBFEC 73C1A46E FFB06F41 2AC90051\n",
        "97C5E4E9 B1C26A21 DD4A3463 6B71162F\n",
        "8C075668 7975D565 6D95A700 7272E637\n",
        "```\n",
        "\n",
        "Известно, что для зашифрования использовался алгоритм TEA. Известен также ключ зашифрования/расшифрования:\n",
        "\n",
        "```\n",
        "k = [0, 4, 5, 1]\n",
        "```\n",
        "\n",
        "Имеется и функция на C/C++ для расшифровки данных (v – слова данных, k – ключ):\n",
        "\n",
        "```C\n",
        "void decrypt(uint32_t v[2], const uint32_t k[4]) {\n",
        "    uint32_t v0 = v[0], v1 = v[1], sum = 0xC6EF3720, i;\n",
        "    uint32_t delta = 0x9E3779B9;\n",
        "    uint32_t k0 = k[0], k1 = k[1], k2 = k[2], k3 = k[3];\n",
        "    for (i = 0; i < 32; i++) {\n",
        "        v1 -= ((v0 << 4) + k2) ^ (v0 + sum) ^ ((v0 >> 5) + k3);\n",
        "        v0 -= ((v1 << 4) + k0) ^ (v1 + sum) ^ ((v1 >> 5) + k1);\n",
        "        sum -= delta;\n",
        "    }\n",
        "    v[0] = v0; v[1] = v1;\n",
        "}\n",
        "```\n",
        "\n",
        "Остается перевести функцию decrypt на Питон и узнать, что же содержится в зашифрованном сообщении!"
      ]
    },
    {
      "cell_type": "code",
      "execution_count": 1,
      "metadata": {},
      "outputs": [
        {
          "name": "stdout",
          "output_type": "stream",
          "text": [
            "Поздравляю! Вы нашли секретное сообщение"
          ]
        }
      ],
      "source": [
        "import ctypes\n",
        "\n",
        "\n",
        "def decrypt(v, k):\n",
        "    v0 = ctypes.c_uint32(v[0])\n",
        "    v1 = ctypes.c_uint32(v[1])\n",
        "    sum_ = 0xC6EF3720\n",
        "    delta = 0x9E3779B9\n",
        "    k0 = ctypes.c_uint32(k[0])\n",
        "    k1 = ctypes.c_uint32(k[1])\n",
        "    k2 = ctypes.c_uint32(k[2])\n",
        "    k3 = ctypes.c_uint32(k[3])\n",
        "    for i in range(32):\n",
        "        v1.value -= ((v0.value << 4) + k2.value) ^ (v0.value + sum_) ^ ((v0.value >> 5) + k3.value)\n",
        "        v0.value -= ((v1.value << 4) + k0.value) ^ (v1.value + sum_) ^ ((v1.value >> 5) + k1.value)\n",
        "        sum_ -= delta\n",
        "    return v0.value, v1.value\n",
        "\n",
        "k = [0, 4, 5, 1]\n",
        "\n",
        "msg = [\n",
        "        0xE3238557, 0x6204A1F8, 0xE6537611, 0x174E5747,\n",
        "        0x5D954DA8, 0x8C2DFE97, 0x2911CB4C, 0x2CB7C66B,\n",
        "        0xE7F185A0, 0xC7E3FA40, 0x42419867, 0x374044DF,\n",
        "        0x2519F07D, 0x5A0C24D4, 0xF4A960C5, 0x31159418,\n",
        "        0xF2768EC7, 0xAEAF14CF, 0x071B2C95, 0xC9F22699,\n",
        "        0xFFB06F41, 0x2AC90051, 0xA53F035D, 0x830601A7,\n",
        "        0xEB475702, 0x183BAA6F, 0x12626744, 0x9B75A72F,\n",
        "        0x8DBFBFEC, 0x73C1A46E, 0xFFB06F41, 0x2AC90051,\n",
        "        0x97C5E4E9, 0xB1C26A21, 0xDD4A3463, 0x6B71162F,\n",
        "        0x8C075668, 0x7975D565, 0x6D95A700, 0x7272E637\n",
        "      ]\n",
        "\n",
        "for i in range(0, len(msg), 2):\n",
        "    msg[i:i+2] = decrypt(msg[i:i+2], k)\n",
        "\n",
        "\n",
        "for i in msg:\n",
        "    print(chr(i), end='')"
      ]
    },
    {
      "cell_type": "markdown",
      "metadata": {
        "id": "-tEk6o2tq6em"
      },
      "source": [
        "## 6. Генераторы текстов"
      ]
    },
    {
      "cell_type": "markdown",
      "metadata": {
        "id": "nYoueaUcq6em"
      },
      "source": [
        "**6.1.** (0.3 балла)\n",
        "\n",
        "Реализуйте генератор докладов по цифровой экономике. Данные для генерации извлекаются из таблицы:\n",
        "\n",
        "<table>\n",
        "<tr>\n",
        "<th>1</th>\n",
        "<th>2</th>\n",
        "<th>3</th>\n",
        "<th>4</th>\n",
        "<th>5</th>\n",
        "</tr>\n",
        "<tr>\n",
        "<td>Коллеги,</td>\n",
        "<td>парадигма цифровой экономики</td>\n",
        "<td>открывает новые возможности для</td>\n",
        "<td>дальнейшего углубления</td>\n",
        "<td>знаний и компетенций.</td>\n",
        "</tr>\n",
        "<tr>\n",
        "<td>В то же время,</td>\n",
        "<td>контекст цифровой трансформации</td>\n",
        "<td>выдвигает новые требования</td>\n",
        "<td>бюджетного финансирования</td>\n",
        "<td>непроверенных гипотез.</td>\n",
        "</tr>\n",
        "<tr>\n",
        "<td>Однако,</td>\n",
        "<td>диджитализация бизнес-процессов</td>\n",
        "<td>несёт в себе риски</td>\n",
        "<td>синергетического эффекта</td>\n",
        "<td>волатильных активов.</td>\n",
        "</tr>\n",
        "<tr>\n",
        "<td>Тем не менее,</td>\n",
        "<td>прагматичный подход к цифровым платформам</td>\n",
        "<td>расширяет горизонты</td>\n",
        "<td>компрометации конфиденциальных</td>\n",
        "<td>опасных экспериментов.</td>\n",
        "</tr>\n",
        "<tr>\n",
        "<td>Следовательно,</td>\n",
        "<td>совокупность сквозных технологий</td>\n",
        "<td>заставляет искать варианты</td>\n",
        "<td>универсальной коммодитизации</td>\n",
        "<td>государственно-частных партнёрств.</td>\n",
        "</tr>\n",
        "<tr>\n",
        "<td>Соответственно,</td>\n",
        "<td>программа прорывных исследований</td>\n",
        "<td>не оставляет шанса для</td>\n",
        "<td>несанкционированной кастомизации</td>\n",
        "<td>цифровых следов граждан.</td>\n",
        "</tr>\n",
        "<tr>\n",
        "<td>Вместе с тем,</td>\n",
        "<td>ускорение блокчейн-транзакций</td>\n",
        "<td>повышает вероятность</td>\n",
        "<td>нормативного регулирования</td>\n",
        "<td>нежелательных последствий.</td>\n",
        "</tr>\n",
        "<tr>\n",
        "<td>С другой стороны,</td>\n",
        "<td>экспоненциальный рост Big Data</td>\n",
        "<td>обостряет проблему</td>\n",
        "<td>практического применения</td>\n",
        "<td>внезапных открытий.</td>\n",
        "</tr>\n",
        "</table>"
      ]
    },
    {
      "cell_type": "markdown",
      "metadata": {
        "id": "MrYeVkDzq6em"
      },
      "source": [
        "Придумайте способ автоматизировать извлечение данных таблицы из этого документа.\n",
        "\n",
        "Доклад должен иметь корректное начало и несколько абзацев текста.\n",
        "\n",
        "Пример доклада показан ниже:\n",
        "\n",
        "```\n",
        "Коллеги, совокупность сквозных технологий повышает вероятность нормативного регулирования опасных экспериментов. С другой стороны, совокупность сквозных технологий несёт в себе риски нормативного регулирования внезапных открытий. Тем не менее, совокупность сквозных технологий открывает новые возможности несанкционированной кастомизации опасных экспериментов. \n",
        "\n",
        "Тем не менее, парадигма цифровой экономики открывает новые возможности практического применения цифровых следов граждан. Соответственно, совокупность сквозных технологий открывает новые возможности универсальной коммодитизации волатильных активов. Следовательно, программа прорывных исследований несёт в себе риски практического применения государственно-частных партнёрств. \n",
        "\n",
        "Следовательно, ускорение блокчейн-транзакций расширяет горизонты универсальной коммодитизации знаний и компетенций. Вместе с тем, прагматичный подход к цифровым платформам не оставляет шанса для нормативного регулирования непроверенных гипотез. Следовательно, прагматичный подход к цифровым платформам повышает вероятность бюджетного финансирования волатильных активов.\n",
        "```"
      ]
    },
    {
      "cell_type": "code",
      "execution_count": 7,
      "metadata": {},
      "outputs": [
        {
          "name": "stdout",
          "output_type": "stream",
          "text": [
            "Коллеги, С другой стороны, прагматичный подход к цифровым платформам выдвигает новые требования универсальной коммодитизации. \n",
            "Тем не менее, контекст цифровой трансформации расширяет горизонты бюджетного финансирования. \n",
            "Следовательно, диджитализация бизнес-процессов открывает новые возможности для синергетического эффекта. \n",
            "Соответственно, прагматичный подход к цифровым платформам обостряет проблему практического применения. \n",
            "В то же время, контекст цифровой трансформации обостряет проблему дальнейшего углубления. \n",
            "\n"
          ]
        }
      ],
      "source": [
        "import random\n",
        "\n",
        "\n",
        "arr1 = [\n",
        "    \"Коллеги,\",\n",
        "    \"В то же время,\",\n",
        "    \"Однако,\",\n",
        "    \"Тем не менее,\",\n",
        "    \"Следовательно,\",\n",
        "    \"Соответственно,\",\n",
        "    \"Вместе с тем,\",\n",
        "    \"С другой стороны,\",\n",
        "]\n",
        "arr2 = [\n",
        "    \"парадигма цифровой экономики\",\n",
        "    \"контекст цифровой трансформации\",\n",
        "    \"диджитализация бизнес-процессов\",\n",
        "    \"прагматичный подход к цифровым платформам\",\n",
        "    \"совокупность сквозных технологий\",\n",
        "    \"программа прорывных исследований\",\n",
        "    \"ускорение блокчейн-транзакций\",\n",
        "    \"экспоненциальный рост Big Data\",\n",
        "]\n",
        "arr3 = [\n",
        "    \"открывает новые возможности для\",\n",
        "    \"выдвигает новые требования\",\n",
        "    \"несёт в себе риски\",\n",
        "    \"расширяет горизонты\",\n",
        "    \"заставляет искать варианты\",\n",
        "    \"не оставляет шанса для\",\n",
        "    \"повышает вероятность\",\n",
        "    \"обостряет проблему\",\n",
        "]\n",
        "arr4 = [\n",
        "    \"дальнейшего углубления\",\n",
        "    \"бюджетного финансирования\",\n",
        "    \"синергетического эффекта\",\n",
        "    \"компрометации конфиденциальных\",\n",
        "    \"универсальной коммодитизации\",\n",
        "    \"несанкционированной кастомизации\",\n",
        "    \"нормативного регулирования\",\n",
        "    \"практического применения\",\n",
        "]\n",
        "\n",
        "import random\n",
        "\n",
        "used_starts = []\n",
        "\n",
        "def generate_text(num_sentences):\n",
        "    global arr1, arr2, arr3, arr4\n",
        "    text = \"Коллеги, \"\n",
        "    used_starts.append(\"Коллеги,\")\n",
        "\n",
        "    for i in range(num_sentences - 1):\n",
        "        start = random.choice(list(set(arr1) - set(used_starts)))\n",
        "        used_starts.append(start)\n",
        "        sentence = (\n",
        "            start\n",
        "            + \" \" + random.choice(arr2)\n",
        "            + \" \" + random.choice(arr3)\n",
        "            + \" \" + random.choice(arr4)\n",
        "            + \". \\n\"\n",
        "        )\n",
        "        text += sentence\n",
        "    return text\n",
        "\n",
        "\n",
        "\n",
        "print(generate_text(6))"
      ]
    },
    {
      "cell_type": "markdown",
      "metadata": {
        "id": "Gwrjptz2q6en"
      },
      "source": [
        "**6.2.** (0.3 балла)\n",
        "\n",
        "Реализуйте генератор случайных данных ФИО. Список распространенных имен можно скачать из интернета. Фамилии необходимо генерировать самостоятельно – так, чтобы результат оказался не менее реалистичным, чем в примере ниже. Впрочем, можете попробовать генерировать и имена.\n",
        "\n",
        "Примеры работы генератора:\n",
        "\n",
        "```\n",
        "Данил А. Фуций\n",
        "Роман Д. Фецачли\n",
        "Лев Ц. Шолодяк\n",
        "Ильдар Ц. Тачасяк\n",
        "Николай Р. Мугодич\n",
        "Данила И. Табян\n",
        "Семен Л. Черев\n",
        "Самир Д. Тифомский\n",
        "Тамерлан О. Гузянц\n",
        "Святослав И. Набян\n",
        "Герман З. Семидяк\n",
        "Тамерлан К. Башко\n",
        "Назар Ш. Кунарий\n",
        "Степан Е. Гидский\n",
        "Леонид Н. Сабин\n",
        "```"
      ]
    },
    {
      "cell_type": "code",
      "execution_count": 130,
      "metadata": {},
      "outputs": [
        {
          "name": "stdout",
          "output_type": "stream",
          "text": [
            "Евгения Г. Щеижиова\n"
          ]
        }
      ],
      "source": [
        "import random\n",
        "\n",
        "\n",
        "vowels = ['а', 'е', 'ё', 'и', 'о', 'у', 'ы', 'э', 'ю', 'я']\n",
        "consonants = ['б', 'в', 'г', 'д', 'ж', 'з', 'к', 'л', 'м', 'н',\n",
        "              'п', 'р', 'с', 'т', 'ф', 'х', 'ц', 'ч', 'ш', 'щ']\n",
        "male_names = ['Данил', 'Роман', 'Лев', 'Ильдар', 'Николай', 'Данила',\n",
        "              'Семен', 'Самир', 'Тамерлан', 'Назар', 'Степан', 'Леонид']\n",
        "female_names = ['Анна', 'Мария', 'Ксения', 'Виктория', 'Екатерина',\n",
        "                'Алина', 'Светлана', 'Людмила', 'Евгения', 'Юлия', 'Надежда', 'Лидия']\n",
        "surnames_endings = {'м': ['ов', 'ев', 'ин', 'ын', 'их', 'ых'],\n",
        "                    'ж': ['ова', 'ева', 'ина', 'ая', 'яя', 'ых', 'их']}\n",
        "\n",
        "\n",
        "def generate_name(gender):\n",
        "    if gender == 'м':\n",
        "        name = random.choice(male_names)\n",
        "    else:\n",
        "        name = random.choice(female_names)\n",
        "    patronymic = random.choice(consonants).capitalize() + '.'\n",
        "    if random.choice([True, False]):\n",
        "        surname = random.choice(consonants)\n",
        "        surname += random.choice(vowels)\n",
        "    else:\n",
        "        surname = random.choice(vowels)\n",
        "        surname += random.choice(consonants)\n",
        "    while len(surname) < 5:\n",
        "        if len(surname) % 2 == 0:\n",
        "            surname += random.choice(vowels)\n",
        "        else:\n",
        "            surname += random.choice(consonants)\n",
        "    surname += random.choice(surnames_endings[gender])\n",
        "    return name + ' ' + patronymic + ' ' + surname.capitalize()\n",
        "\n",
        "\n",
        "print(generate_name(random.choice(['м', 'ж'])))\n"
      ]
    },
    {
      "cell_type": "markdown",
      "metadata": {
        "id": "drOUbnt7q6en"
      },
      "source": [
        "**6.3.** (5 баллов для первого студента, выполнившего задание)\n",
        "\n",
        "Придумайте и реализуйте алгоритм автоматического построения таблиц на основе произвольного входного текста с учётом визуального разделения строк и столбцов. Запрещается использовать готовые библиотеки, позволяющие строить таблицы (tabulate, prettytable, pandas и тому подобное)."
      ]
    },
    {
      "cell_type": "markdown",
      "metadata": {
        "id": "xCxfXPyuq6er"
      },
      "source": [
        "## 7. Движок для текстовых игр\n",
        "\n",
        "**7.1.** (0.4 балла)\n",
        "\n",
        "Мир простейших текстовых игр (книг-игр, Choose Your Own Adventure) состоит из множества комнат.\n",
        "\n",
        "Каждая комната содержит:\n",
        "\n",
        "* название,\n",
        "* метку для перехода в эту комнату,\n",
        "* описание комнаты,\n",
        "* список действий со стороны игрока, приводящих к выводу сообщения и переходу в другую комнату по ее метке.\n",
        "\n",
        "В рассматриваемом движке для описания игрового мира используется подмножество формата [Markdown](https://ru.wikipedia.org/wiki/Markdown).\n",
        "\n",
        "[Вот простейшая игра](https://github.com/true-grue/kispython/blob/2262e9108a8ff0f82bee818d0a8b7ba88b3233bf//data/game.md), реализованная таким образом.\n",
        "\n",
        "Задача состоит в реализации игры подобного типа на основе языка Python. Подразумевается реализация не менее 10 комнат с заданными комнатами начала и конца игры. При этом вариант \"победы\" не обязательно предусматривается в конечной комнате.\n",
        "\n",
        "Ниже показан пример сеанса игры:\n",
        "\n",
        "```\n",
        "Начало лабиринта\n",
        "\n",
        "Вы в начале лабиринта. Сможете ли из него выбраться?\n",
        "\n",
        "1. Проход на запад.\n",
        "\n",
        "> 1\n",
        "\n",
        "...\n",
        "\n",
        "Комната №2\n",
        "\n",
        "Вы находитесь в комнате №2.\n",
        "\n",
        "1. Проход на запад.\n",
        "2. Проход на восток.\n",
        "\n",
        "> 1\n",
        "\n",
        "...\n",
        "\n",
        "Комната №3\n",
        "\n",
        "Вы находитесь в комнате №3.\n",
        "\n",
        "1. Проход на север.\n",
        "2. Проход на восток.\n",
        "\n",
        "> \n",
        "```"
      ]
    },
    {
      "cell_type": "markdown",
      "metadata": {
        "id": "-Y6FE8JBq6er"
      },
      "source": [
        "**7.2.** (0.5 балла)\n",
        "\n",
        "Изобразите граф игрового мира из задачи 7.1. с помощью генерации кода на языке Dot – представления инструмента [Graphviz](https://github.com/xflr6/graphviz). Также можно воспользоваться [онлайн](https://dreampuf.github.io/GraphvizOnline/#digraph%20G%20%7B%0A%0A%20%20subgraph%20cluster_0%20%7B%0A%20%20%20%20style%3Dfilled%3B%0A%20%20%20%20color%3Dlightgrey%3B%0A%20%20%20%20node%20%5Bstyle%3Dfilled%2Ccolor%3Dwhite%5D%3B%0A%20%20%20%20a0%20-%3E%20a1%20-%3E%20a2%20-%3E%20a3%3B%0A%20%20%20%20label%20%3D%20%22process%20%231%22%3B%0A%20%20%7D%0A%0A%20%20subgraph%20cluster_1%20%7B%0A%20%20%20%20node%20%5Bstyle%3Dfilled%5D%3B%0A%20%20%20%20b0%20-%3E%20b1%20-%3E%20b2%20-%3E%20b3%3B%0A%20%20%20%20label%20%3D%20%22process%20%232%22%3B%0A%20%20%20%20color%3Dblue%0A%20%20%7D%0A%20%20start%20-%3E%20a0%3B%0A%20%20start%20-%3E%20b0%3B%0A%20%20a1%20-%3E%20b3%3B%0A%20%20b2%20-%3E%20a3%3B%0A%20%20a3%20-%3E%20a0%3B%0A%20%20a3%20-%3E%20end%3B%0A%20%20b3%20-%3E%20end%3B%0A%0A%20%20start%20%5Bshape%3DMdiamond%5D%3B%0A%20%20end%20%5Bshape%3DMsquare%5D%3B%0A%7D) версией Graphviz.\n",
        "\n",
        "Пример вывода графа для [game.md](https://github.com/true-grue/kispython/blob/2262e9108a8ff0f82bee818d0a8b7ba88b3233bf//data/game.md):\n",
        "\n",
        "![](https://github.com/true-grue/kispython/blob/main/data/game_md.png?raw=1)"
      ]
    },
    {
      "cell_type": "markdown",
      "metadata": {
        "id": "huzXVJC2q6es"
      },
      "source": [
        "**7.3.** (0.5 балла)\n",
        "\n",
        "Реализуйте инструмент для автоматической проверки игрового мира из задачи 7.1. на наличие тупиков – мест, из которых нельзя добраться до завершения игры."
      ]
    },
    {
      "cell_type": "markdown",
      "metadata": {
        "id": "8fkXjBk5p2N_"
      },
      "source": [
        "***Распределение сложных задач:***\n",
        "\n",
        "**Задача 1:** 5.1. + 5.2. + 5.3. - итого 0.8 балла.\n",
        "\n",
        "**Задача 2:** 6.1. + 6.2. - итого 0.6 балла.\n",
        "\n",
        "**Задача 3:** 6.3. - итого 5 баллов.\n",
        "\n",
        "**Задача 4:** 7.1. + 7.2. + 7.3. - итого 1.4 балла."
      ]
    }
  ],
  "metadata": {
    "colab": {
      "provenance": [],
      "toc_visible": true
    },
    "kernelspec": {
      "display_name": "Python 3",
      "language": "python",
      "name": "python3"
    },
    "language_info": {
      "codemirror_mode": {
        "name": "ipython",
        "version": 3
      },
      "file_extension": ".py",
      "mimetype": "text/x-python",
      "name": "python",
      "nbconvert_exporter": "python",
      "pygments_lexer": "ipython3",
      "version": "3.10.2"
    },
    "orig_nbformat": 4,
    "vscode": {
      "interpreter": {
        "hash": "61dfe9c682d93c0afd147a4694a60871cd02680c76d00a06359d9b0f9ffcab18"
      }
    }
  },
  "nbformat": 4,
  "nbformat_minor": 0
}
