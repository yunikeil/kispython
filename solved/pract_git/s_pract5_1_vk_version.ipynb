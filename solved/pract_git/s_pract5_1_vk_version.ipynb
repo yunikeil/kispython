{
 "cells": [
  {
   "attachments": {},
   "cell_type": "markdown",
   "metadata": {
    "id": "bca6c238"
   },
   "source": [
    "# Практические занятия №12-13 (часть 1)"
   ]
  },
  {
   "attachments": {},
   "cell_type": "markdown",
   "metadata": {
    "id": "16kNK4Oxczsc"
   },
   "source": [
    "## 1. Вводные задачи"
   ]
  },
  {
   "attachments": {},
   "cell_type": "markdown",
   "metadata": {
    "id": "K2dw-bU1dCTc"
   },
   "source": [
    "**1.1.** (0.1 балла)\n",
    "\n",
    "Реализуйте функцию find_word, принимающую два аргумента: строку и слово. Функция должна возвращать индекс первого вхождения слова в строку. Если слово не найдено, то функция должна вернуть -1. Добавьте документацию к функции в виде docstring-строки и протестируйте программу при помощи вызова модуля doctest.\n",
    "\n",
    "Как выполнить проверку:\n",
    "\n",
    "* если код написан в отдельном модуле, то осуществить проверку возможно из командной строки - ```python -m doctest -v module_name.py```;\n",
    "\n",
    "* если работа выполняется в Jupyter-средах, то осуществить проверку возможно прямо в ячейке, применив, например, следующую команду (предварительно импортировав doctest):\n",
    "```\n",
    "doctest.run_docstring_examples(function_name, globals(), name='function_name', verbose=True)\n",
    "```"
   ]
  },
  {
   "cell_type": "code",
   "execution_count": 1,
   "id": "ce887e81",
   "metadata": {},
   "outputs": [
    {
     "name": "stdout",
     "output_type": "stream",
     "text": [
      "-1\n",
      "Finding tests in find_word\n",
      "Trying:\n",
      "    find_word('ava', 'v')\n",
      "Expecting:\n",
      "    1\n",
      "ok\n"
     ]
    }
   ],
   "source": [
    "import doctest\n",
    "\n",
    "\n",
    "def find_word(arg1, arg2):\n",
    "    \"\"\"\n",
    "    >>> find_word('ava', 'v')\n",
    "    1\n",
    "    \"\"\"\n",
    "    return arg1.find(arg2)\n",
    "\n",
    "\n",
    "print(find_word(\"abc\", \"d\"))\n",
    "doctest.run_docstring_examples(find_word, globals(), name='find_word', verbose=True)\n"
   ]
  },
  {
   "attachments": {},
   "cell_type": "markdown",
   "metadata": {
    "id": "vVsLTBWFMrSG"
   },
   "source": [
    "**1.2.** (0.2 балла)\n",
    "\n",
    "Усовершенствуйте функцию find_word таким образом, чтобы она возвращала список индексов каждого вхождения слова в строку. Также добавьте документацию к функции в виде docstring-строки и протестируйте программу при помощи вызова модуля doctest."
   ]
  },
  {
   "cell_type": "code",
   "execution_count": 2,
   "id": "09221c23",
   "metadata": {},
   "outputs": [
    {
     "name": "stdout",
     "output_type": "stream",
     "text": [
      "[0, 2, 4]\n",
      "Finding tests in find_word\n",
      "Trying:\n",
      "    find_word(\"dododo\", \"do\")\n",
      "Expecting:\n",
      "    [0, 2, 4]\n",
      "ok\n"
     ]
    }
   ],
   "source": [
    "import doctest\n",
    "\n",
    "str\n",
    "def find_word(arg1, arg2):\n",
    "    \"\"\"\n",
    "    >>> find_word(\"dododo\", \"do\")\n",
    "    [0, 2, 4]\n",
    "    \"\"\"\n",
    "    res = []\n",
    "    start = 0\n",
    "    while True:\n",
    "        index = arg1.find(arg2, start)\n",
    "        if index == -1:\n",
    "            break \n",
    "        res.append(index)\n",
    "        start = index + len(arg2)\n",
    "    return res\n",
    "\n",
    "\n",
    "print(find_word(\"dododo\", \"do\"))\n",
    "doctest.run_docstring_examples(find_word, globals(), name='find_word', verbose=True)\n"
   ]
  },
  {
   "attachments": {},
   "cell_type": "markdown",
   "metadata": {
    "id": "9736a4a5"
   },
   "source": [
    "**1.3.** (0.1 балла)\n",
    "\n",
    "Реализуйте функцию `raises` с помощью менеджера контекста в духе таковой из pytest. Допускается использование [декоратора](https://medium.com/nuances-of-programming/%D0%B4%D0%B5%D0%BA%D0%BE%D1%80%D0%B0%D1%82%D0%BE%D1%80%D1%8B-%D0%B2-python-%D0%B7%D0%B0-%D1%82%D1%80%D0%B8-%D0%BC%D0%B8%D0%BD%D1%83%D1%82%D1%8B-7bf1b5641886) `@contextmanager` из модуля [contextlib](https://docs-python.ru/standart-library/modul-contextlib-python/dekorator-contextmanager-modulja-contextlib/).\n",
    "\n",
    "Пример использования (ваша реализация):\n",
    "\n",
    "```Python\n",
    "with raises(ZeroDivisionError):\n",
    "  1 / 0\n",
    "```\n",
    "\n",
    "Пример использования (аналог на pytest):\n",
    "\n",
    "```Python\n",
    "with pytest.raises(ZeroDivisionError):\n",
    "  1 / 0\n",
    "```"
   ]
  },
  {
   "cell_type": "code",
   "execution_count": 3,
   "id": "b1ff6aa4",
   "metadata": {},
   "outputs": [],
   "source": [
    "from contextlib import contextmanager\n",
    "\n",
    "\n",
    "@contextmanager\n",
    "def raises(Exception):\n",
    "    try:\n",
    "        yield\n",
    "    except Exception:\n",
    "        pass\n",
    "\n",
    "\n",
    "with raises(ZeroDivisionError):\n",
    "    1 / 0\n",
    "\n",
    "\n"
   ]
  },
  {
   "attachments": {},
   "cell_type": "markdown",
   "metadata": {
    "id": "7k-eg6hHAixz"
   },
   "source": [
    "## 2. Библиотеки pytest и coverage"
   ]
  },
  {
   "attachments": {},
   "cell_type": "markdown",
   "metadata": {
    "id": "-__4mM2CMVf9"
   },
   "source": [
    "**2.1.** (1 балл)\n",
    "\n",
    "В распоряжении имеется упрощённая модель некоторой информационной системы для управления проектами в компании.\n",
    "\n",
    "В системе предусматриваются следующие сущности:\n",
    "\n",
    "*   пользователь - имеет логин, пароль и роль в системе (разработчик, администратор, менеджер проекта);\n",
    "*   проект: имеет название, описание, дату начала и дату окончания, список задач;\n",
    "*   задача: имеет название, описание, дату начала, дату окончания, статус (выполнена или нет), список исполнителей.\n",
    "\n",
    "Классы в системе:\n",
    "\n",
    "*    User: класс, представляющий пользователя. Содержит атрибуты login, password, role, а также методы для аутентификации и авторизации в системе;\n",
    "*    Project: класс, представляющий проект. Содержит атрибуты name, description, start_date, end_date, tasks, методы для добавления/удаления задач в проекте, методы для поиска задач по названию, дате начала или дате окончания, а также метод для проверки статуса завершённости проекта и начальные методы (см. примечание), направленные на решение задач сериализации и десериализации данных (предполагается, что данная функциональность в дальнейшем будет дорабатываться разработчиками);\n",
    "*    Task: класс, представляющий задачу. Содержит атрибуты name, description, start_date, end_date, status, performers, а также методы для изменения статуса задачи и добавления/удаления исполнителей.\n",
    "\n",
    "  **Примечание**: метод to_dict для классов Project и Task преобразует объекты в словарь, который можно сохранить в файл или передать по сети. Метод from_dict создает объект класса на основе словаря.\n",
    "\n",
    "**Задача**: протестировать модель информационной системы при помощи библиотеки `pytest` и добиться 100% покрытия, осуществляя проверку на основе `coverage`.\n",
    "\n",
    "При работе через командную строку возможно использовать следующие команды:\n",
    "\n",
    "*   `coverage run --branch -m pytest file_name.py`;\n",
    "*   `coverage report`;\n",
    "*   `coverage html`.\n",
    "\n",
    "При работе в Jupyter-средах применяются такие же команды, но с добавлением восклицательного знака в начале:\n",
    "\n",
    "*   `!coverage run --branch -m pytest file_name.py`;\n",
    "*   `!coverage report`;\n",
    "*   `!coverage html`;\n",
    "*    для открытия сгенерированного html-файла используйте следующий код:\n",
    "\n",
    "  ```\n",
    "  from IPython.display import HTML\n",
    "\n",
    "  with open('/path/to/file_name_py.html', 'r') as f:\n",
    "       html = f.read()\n",
    "  css = '<style>' + open('/path/to/style.css', 'r').read() + '</style>'\n",
    "  display(HTML(html + css))\n",
    "  ```"
   ]
  },
  {
   "cell_type": "code",
   "execution_count": 4,
   "metadata": {
    "id": "M3zPmXVETa4U"
   },
   "outputs": [],
   "source": [
    "class User:\n",
    "    def __init__(self, login, password, role):\n",
    "        self.login = login\n",
    "        self.password = password\n",
    "        self.role = role\n",
    "    \n",
    "    def authenticate(self, login_attempt, password_attempt):\n",
    "        if self.login == login_attempt and self.password == password_attempt:\n",
    "            return True\n",
    "        else:\n",
    "            return False\n",
    "    \n",
    "    def authorize(self, required_roles):\n",
    "        if self.role in required_roles:\n",
    "            return True\n",
    "        else:\n",
    "            return False\n",
    "\n",
    "\n",
    "class Project:\n",
    "    def __init__(self, name, description, start_date, end_date):\n",
    "        self.name = name\n",
    "        self.description = description\n",
    "        self.start_date = start_date\n",
    "        self.end_date = end_date\n",
    "        self.tasks = []\n",
    "    \n",
    "    def add_task(self, task):\n",
    "        self.tasks.append(task)\n",
    "    \n",
    "    def remove_task(self, task):\n",
    "        self.tasks.remove(task)\n",
    "    \n",
    "    def find_task_by_name(self, name):\n",
    "        return [task for task in self.tasks if task.name == name]\n",
    "    \n",
    "    def find_task_by_start_date(self, start_date):\n",
    "        return [task for task in self.tasks if task.start_date == start_date]\n",
    "    \n",
    "    def find_task_by_end_date(self, end_date):\n",
    "        return [task for task in self.tasks if task.end_date == end_date]\n",
    "    \n",
    "    def is_completed(self):\n",
    "        return all(task.status for task in self.tasks)\n",
    "    \n",
    "    def to_dict(self):\n",
    "        return {\n",
    "            'name': self.name,\n",
    "            'description': self.description,\n",
    "            'start_date': str(self.start_date),\n",
    "            'end_date': str(self.end_date),\n",
    "            'tasks': [task.to_dict() for task in self.tasks]\n",
    "        }\n",
    "    \n",
    "    @classmethod\n",
    "    def from_dict(cls, data):\n",
    "        project = cls(data['name'], data['description'], data['start_date'], data['end_date'])\n",
    "        for task_data in data['tasks']:\n",
    "            task = Task.from_dict(task_data)\n",
    "            project.add_task(task)\n",
    "        return project\n",
    "\n",
    "\n",
    "class Task:\n",
    "    def __init__(self, name, description, start_date, end_date):\n",
    "        self.name = name\n",
    "        self.description = description\n",
    "        self.start_date = start_date\n",
    "        self.end_date = end_date\n",
    "        self.status = False\n",
    "        self.performers = []\n",
    "    \n",
    "    def change_status(self):\n",
    "        self.status = not self.status\n",
    "    \n",
    "    def add_performer(self, performer):\n",
    "        self.performers.append(performer)\n",
    "    \n",
    "    def remove_performer(self, performer):\n",
    "        self.performers.remove(performer)\n",
    "    \n",
    "    def to_dict(self):\n",
    "        return {\n",
    "            'name': self.name,\n",
    "            'description': self.description,\n",
    "            'start_date': str(self.start_date),\n",
    "            'end_date': str(self.end_date),\n",
    "            'status': self.status,\n",
    "            'performers': self.performers\n",
    "        }\n",
    "    \n",
    "    @classmethod\n",
    "    def from_dict(cls, data):\n",
    "        task = cls(data['name'], data['description'], data['start_date'], data['end_date'])\n",
    "        task.status = data['status']\n",
    "        task.performers = data['performers']\n",
    "        return task"
   ]
  },
  {
   "cell_type": "code",
   "execution_count": 5,
   "metadata": {},
   "outputs": [
    {
     "ename": "FileNotFoundError",
     "evalue": "[Errno 2] No such file or directory: './pract5_2.1/htmlcov/testing_py.html'",
     "output_type": "error",
     "traceback": [
      "\u001b[1;31m---------------------------------------------------------------------------\u001b[0m",
      "\u001b[1;31mFileNotFoundError\u001b[0m                         Traceback (most recent call last)",
      "Cell \u001b[1;32mIn[5], line 14\u001b[0m\n\u001b[0;32m      3\u001b[0m \u001b[39mimport\u001b[39;00m \u001b[39mos\u001b[39;00m\n\u001b[0;32m      6\u001b[0m os\u001b[39m.\u001b[39msystem(\n\u001b[0;32m      7\u001b[0m     \u001b[39m'\u001b[39m\u001b[39mcd d:\u001b[39m\u001b[39m\\\\\u001b[39;00m\u001b[39m.repos\u001b[39m\u001b[39m\\\\\u001b[39;00m\u001b[39mPython\u001b[39m\u001b[39m\\\\\u001b[39;00m\u001b[39mkispython\u001b[39m\u001b[39m\\\\\u001b[39;00m\u001b[39msolved\u001b[39m\u001b[39m\\\\\u001b[39;00m\u001b[39mpract_git\u001b[39m\u001b[39m\\\\\u001b[39;00m\u001b[39mpract5_2.1 & \u001b[39m\u001b[39m'\u001b[39m \\\n\u001b[0;32m      8\u001b[0m     \u001b[39m'\u001b[39m\u001b[39md:\u001b[39m\u001b[39m\\\\\u001b[39;00m\u001b[39m.repos\u001b[39m\u001b[39m\\\\\u001b[39;00m\u001b[39mPython\u001b[39m\u001b[39m\\\\\u001b[39;00m\u001b[39mkispython\u001b[39m\u001b[39m\\\\\u001b[39;00m\u001b[39mVenv\u001b[39m\u001b[39m\\\\\u001b[39;00m\u001b[39mScripts\u001b[39m\u001b[39m\\\\\u001b[39;00m\u001b[39mActivate.ps1 & \u001b[39m\u001b[39m'\u001b[39m \\\n\u001b[0;32m      9\u001b[0m     \u001b[39m'\u001b[39m\u001b[39mcoverage run --branch -m pytest testing.py & \u001b[39m\u001b[39m'\u001b[39m \\\n\u001b[0;32m     10\u001b[0m     \u001b[39m'\u001b[39m\u001b[39mcoverage report & coverage html\u001b[39m\u001b[39m'\u001b[39m\n\u001b[0;32m     11\u001b[0m )\n\u001b[1;32m---> 14\u001b[0m \u001b[39mwith\u001b[39;00m \u001b[39mopen\u001b[39;49m(\u001b[39m'\u001b[39;49m\u001b[39m./pract5_2.1/htmlcov/testing_py.html\u001b[39;49m\u001b[39m'\u001b[39;49m, \u001b[39m'\u001b[39;49m\u001b[39mr\u001b[39;49m\u001b[39m'\u001b[39;49m) \u001b[39mas\u001b[39;00m f:\n\u001b[0;32m     15\u001b[0m     html \u001b[39m=\u001b[39m f\u001b[39m.\u001b[39mread()\n\u001b[0;32m     16\u001b[0m css \u001b[39m=\u001b[39m \u001b[39m'\u001b[39m\u001b[39m<style>\u001b[39m\u001b[39m'\u001b[39m \u001b[39m+\u001b[39m \u001b[39mopen\u001b[39m(\u001b[39m'\u001b[39m\u001b[39m./pract5_2.1/htmlcov/style.css\u001b[39m\u001b[39m'\u001b[39m, \u001b[39m'\u001b[39m\u001b[39mr\u001b[39m\u001b[39m'\u001b[39m)\u001b[39m.\u001b[39mread() \u001b[39m+\u001b[39m \u001b[39m'\u001b[39m\u001b[39m</style>\u001b[39m\u001b[39m'\u001b[39m\n",
      "File \u001b[1;32mc:\\Users\\iyuna\\source\\repos\\python\\kispython\\Venv\\lib\\site-packages\\IPython\\core\\interactiveshell.py:284\u001b[0m, in \u001b[0;36m_modified_open\u001b[1;34m(file, *args, **kwargs)\u001b[0m\n\u001b[0;32m    277\u001b[0m \u001b[39mif\u001b[39;00m file \u001b[39min\u001b[39;00m {\u001b[39m0\u001b[39m, \u001b[39m1\u001b[39m, \u001b[39m2\u001b[39m}:\n\u001b[0;32m    278\u001b[0m     \u001b[39mraise\u001b[39;00m \u001b[39mValueError\u001b[39;00m(\n\u001b[0;32m    279\u001b[0m         \u001b[39mf\u001b[39m\u001b[39m\"\u001b[39m\u001b[39mIPython won\u001b[39m\u001b[39m'\u001b[39m\u001b[39mt let you open fd=\u001b[39m\u001b[39m{\u001b[39;00mfile\u001b[39m}\u001b[39;00m\u001b[39m by default \u001b[39m\u001b[39m\"\u001b[39m\n\u001b[0;32m    280\u001b[0m         \u001b[39m\"\u001b[39m\u001b[39mas it is likely to crash IPython. If you know what you are doing, \u001b[39m\u001b[39m\"\u001b[39m\n\u001b[0;32m    281\u001b[0m         \u001b[39m\"\u001b[39m\u001b[39myou can use builtins\u001b[39m\u001b[39m'\u001b[39m\u001b[39m open.\u001b[39m\u001b[39m\"\u001b[39m\n\u001b[0;32m    282\u001b[0m     )\n\u001b[1;32m--> 284\u001b[0m \u001b[39mreturn\u001b[39;00m io_open(file, \u001b[39m*\u001b[39margs, \u001b[39m*\u001b[39m\u001b[39m*\u001b[39mkwargs)\n",
      "\u001b[1;31mFileNotFoundError\u001b[0m: [Errno 2] No such file or directory: './pract5_2.1/htmlcov/testing_py.html'"
     ]
    }
   ],
   "source": [
    "from IPython.display import HTML\n",
    "import time\n",
    "import os\n",
    "\n",
    "\n",
    "os.system(\n",
    "    'cd d:\\\\.repos\\\\Python\\\\kispython\\\\solved\\\\pract_git\\\\pract5_2.1 & ' \\\n",
    "    'd:\\\\.repos\\\\Python\\\\kispython\\\\Venv\\\\Scripts\\\\Activate.ps1 & ' \\\n",
    "    'coverage run --branch -m pytest testing.py & ' \\\n",
    "    'coverage report & coverage html'\n",
    ")\n",
    "\n",
    "\n",
    "with open('./pract5_2.1/htmlcov/testing_py.html', 'r') as f:\n",
    "    html = f.read()\n",
    "css = '<style>' + open('./pract5_2.1/htmlcov/style.css', 'r').read() + '</style>'\n",
    "display(HTML(html + css))\n"
   ]
  },
  {
   "attachments": {},
   "cell_type": "markdown",
   "metadata": {
    "id": "CWjM3GZf_Qmf"
   },
   "source": [
    "## 3. Контрактное программирование"
   ]
  },
  {
   "attachments": {},
   "cell_type": "markdown",
   "metadata": {
    "id": "d342601a"
   },
   "source": [
    "**3.1.** (0.1 балла)\n",
    "\n",
    "Реализуйте функцию `euclidean_distance`, вычисляющую [евклидово расстояние](https://ru.wikipedia.org/wiki/%D0%95%D0%B2%D0%BA%D0%BB%D0%B8%D0%B4%D0%BE%D0%B2%D0%B0_%D0%BC%D0%B5%D1%82%D1%80%D0%B8%D0%BA%D0%B0) между двумя точками, в виде однострочника. Вручную проверьте, что для точек $(0, 0)$ и $(3, 4)$ евклидово расстояние действительно равно $5$. Здесь и далее представим, что при вызове функции `euclidean_distance` вычисления выполняются на дорогостоящем вычислительном оборудовании в облаке, автоматически арендуемом на краткосрочный период. Добавьте в функцию `euclidean_distance` вывод в консоль сообщения `Внимание! Выполняются дорогостоящие вычисления!` перед выполнением вычислений."
   ]
  },
  {
   "attachments": {},
   "cell_type": "markdown",
   "metadata": {
    "id": "ff7eb0af"
   },
   "source": [
    "**3.2.** (0.1 балла)\n",
    "\n",
    "Сломайте реализованную ранее функцию `euclidean_distance`, подав ей на вход значения `None`. При помощи декоратора `@deal.pre` добавьте предусловие, гарантирующее, что на вход функции никогда не поступит значение `None`. При помощи реализованной ранее функции `raises` убедитесь, что вызов `euclidean_distance(None, None)` порождает исключение `deal.PreContractError`."
   ]
  },
  {
   "attachments": {},
   "cell_type": "markdown",
   "metadata": {
    "id": "75cef429"
   },
   "source": [
    "**3.3.** (0.1 балла)\n",
    "\n",
    "Добавьте предусловие, гарантирующее, что на вход функции никогда не поступят пустые списки. При помощи функции `raises` убедитесь, что вызов `euclidean_distance([], [])` порождает исключение `deal.PreContractError`."
   ]
  },
  {
   "attachments": {},
   "cell_type": "markdown",
   "metadata": {
    "id": "23742842"
   },
   "source": [
    "**3.4.** (0.2 балла)\n",
    "\n",
    "Входные векторы должны быть представлены списками или кортежами."
   ]
  },
  {
   "attachments": {},
   "cell_type": "markdown",
   "metadata": {
    "id": "e2a81c18"
   },
   "source": [
    "**3.5.** (0.1 балла)\n",
    "\n",
    "Размерности векторов, поступающих на вход, должны быть равны."
   ]
  },
  {
   "attachments": {},
   "cell_type": "markdown",
   "metadata": {
    "id": "4f5eb290"
   },
   "source": [
    "**3.6.** (0.2 балла)\n",
    "\n",
    "Компоненты векторов могут быть только целыми или вещественными числами."
   ]
  },
  {
   "attachments": {},
   "cell_type": "markdown",
   "metadata": {
    "id": "66641c4d"
   },
   "source": [
    "**3.7.** (0.1 балла)\n",
    "\n",
    "Функция не должна иметь побочных эффектов, таких как вывод в консоль. Вызов `euclidean_distance(...)` должен порождать исключение `deal.SilentContractError`."
   ]
  },
  {
   "attachments": {},
   "cell_type": "markdown",
   "metadata": {
    "id": "aba24163"
   },
   "source": [
    "**3.8.** (0.2 балла)\n",
    "\n",
    "Выход функции должен быть или целым, или вещественным числом. Вызов `euclidean_distance(...)` должен порождать исключение `deal.PostContractError`."
   ]
  },
  {
   "attachments": {},
   "cell_type": "markdown",
   "metadata": {
    "id": "dd21b6f7"
   },
   "source": [
    "**3.9.** (0.1 балла)\n",
    "\n",
    "Выход функции является нулём или положительным числом."
   ]
  },
  {
   "attachments": {},
   "cell_type": "markdown",
   "metadata": {
    "id": "04923d61"
   },
   "source": [
    "**3.10.** (0.4 балла)\n",
    "\n",
    "Объедините контракты в цепочку `distance_function`, используя `deal.chain`.\n",
    "\n",
    "Реализуйте и пометьте контрактом `distance_function` следующие функции:\n",
    "- `euclidean_distance` $d_1(\\vec{x}, \\vec{y}) = \\sqrt{\\sum_{i=1}^{n}(x_i-y_i)^2}$.\n",
    "- `manhattan_distance` $d_2(\\vec{x}, \\vec{y}) = \\sum_{i=1}^{n}|x_i-y_i|$.\n",
    "\n",
    "Добавьте документацию к функциям в виде docstring-строк. Опишите тесты к каждой из функций в формате `doctest`. Для `euclidean_distance` в тестах проверьте, что для точек $(0, 0)$ и $(3, 4)$ евклидово расстояние действительно равно $5$, для `manhattan_distance` добавьте аналогичную проверку. Запустите тесты средствами `doctest`. Проверку всего модуля в Jupyter-средах возможно осуществить при помощи вызова `doctest.testmod()`."
   ]
  }
 ],
 "metadata": {
  "colab": {
   "provenance": []
  },
  "kernelspec": {
   "display_name": "Python 3",
   "language": "python",
   "name": "python3"
  },
  "language_info": {
   "codemirror_mode": {
    "name": "ipython",
    "version": 3
   },
   "file_extension": ".py",
   "mimetype": "text/x-python",
   "name": "python",
   "nbconvert_exporter": "python",
   "pygments_lexer": "ipython3",
   "version": "3.10.2"
  }
 },
 "nbformat": 4,
 "nbformat_minor": 5
}
