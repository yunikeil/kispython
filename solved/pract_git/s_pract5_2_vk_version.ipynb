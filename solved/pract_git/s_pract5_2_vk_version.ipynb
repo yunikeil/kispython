{
  "cells": [
    {
      "cell_type": "markdown",
      "id": "bca6c238",
      "metadata": {
        "id": "bca6c238"
      },
      "source": [
        "# Практические занятия №12-13 (часть 2)"
      ]
    },
    {
      "cell_type": "markdown",
      "id": "c96223e4",
      "metadata": {
        "id": "c96223e4"
      },
      "source": [
        "### Фаззинг (Тестирование на случайных структурированных входных данных)\n",
        "\n",
        "**4.1.** (1 балл)\n",
        "\n",
        "Продолжение раздела \"Контрактное программирование\" из части 1. Напишите тест, доказывающий, что переданная на вход функция коммутативна. Используйте модуль `hypothesis`. Запустите тесты для реализованных ранее функций `euclidean_distance` и `manhattan_distance`.  "
      ]
    },
    {
      "cell_type": "markdown",
      "id": "bb71e5ae",
      "metadata": {
        "id": "bb71e5ae"
      },
      "source": [
        "### Инварианты классов\n",
        "\n",
        "**4.2.** (1 балл)\n",
        "\n",
        "В приведённом ниже коде для работы с банковским счётом есть следующие проблемы:\n",
        "\n",
        "1. Снятие суммы без проверки баланса.\n",
        "2. Снятие/добавление отрицательной суммы на счет.\n",
        "3. В поле `balance` может быть записано всё что угодно.\n",
        "\n",
        "Решите их путём добавления инвариантов класса `deal.inv`. Напишите тесты для всех методов класса `BankAccount`. Обязательно напишите тест, проверяющий, что баланс равен 0.2 после зачисления 0.3 и снятия 0.1 средств."
      ]
    },
    {
      "cell_type": "code",
      "execution_count": null,
      "id": "73dbcd6f",
      "metadata": {
        "id": "73dbcd6f"
      },
      "outputs": [],
      "source": [
        "class BankAccount:\n",
        "    def __init__(self, balance=0):\n",
        "        self.balance = balance\n",
        "\n",
        "    def deposit(self, amount):\n",
        "        self.balance += amount\n",
        "        return f\"{amount} средств успешно зачислены на счёт.\"\n",
        "\n",
        "    def withdraw(self, amount):\n",
        "        self.balance -= amount\n",
        "        return f\"{amount} средств успешно сняты с счёта.\"\n",
        "\n",
        "    def check_balance(self):\n",
        "        return f\"Баланс счёта: {self.balance}\""
      ]
    },
    {
      "cell_type": "markdown",
      "id": "118c1b8e",
      "metadata": {
        "id": "118c1b8e"
      },
      "source": [
        "### Мутационное тестирование\n",
        "\n",
        "**4.3.** (1 балл)\n",
        "\n",
        "Суть мутационного тестирования (mutation testing) состоит в привнесении ошибок (\"мутаций\") в исходную программу (тем самым создаются \"программы-мутанты\"), с тем, чтобы оценить, сможет ли существующий набор тестов эти ошибки определить. Если набор тестов успешно выполняется на программе-мутанте, то это означает, что используемые тесты нуждаются в развитии.\n",
        "\n",
        "Продолжение раздела \"Библиотеки pytest и coverage (задача 2.1.)\". Намеренно внесите минимум по одному ошибочному изменению в коде методов следующих классов:\n",
        "\n",
        "\n",
        "1.   User - `authenticate()`, `authorize()`.\n",
        "2.   Project - `add_task()`, `remove_task()`, `find_task_by_name()`, `find_task_by_start_date()`, `is_completed()`.\n",
        "3.   Task - `change_status()`, `remove_performer()`.\n",
        "\n",
        "Проверьте существующий набор тестов для задачи 2.1. на обновлённом коде. Проходят ли какие-то тесты? Попытайтесь добиться обратного эффекта: ни один тест, проверяющий указанные выше методы, не должен проходить. Проверку возможно осуществлять также через `pytest` и `coverage`."
      ]
    }
  ],
  "metadata": {
    "kernelspec": {
      "display_name": "Python 3 (ipykernel)",
      "language": "python",
      "name": "python3"
    },
    "language_info": {
      "codemirror_mode": {
        "name": "ipython",
        "version": 3
      },
      "file_extension": ".py",
      "mimetype": "text/x-python",
      "name": "python",
      "nbconvert_exporter": "python",
      "pygments_lexer": "ipython3",
      "version": "3.10.5"
    },
    "colab": {
      "provenance": []
    }
  },
  "nbformat": 4,
  "nbformat_minor": 5
}