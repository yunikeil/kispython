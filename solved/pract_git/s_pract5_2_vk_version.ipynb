{
  "cells": [
    {
      "cell_type": "markdown",
      "id": "bca6c238",
      "metadata": {
        "id": "bca6c238"
      },
      "source": [
        "# Практические занятия №12-13 (часть 2)"
      ]
    },
    {
      "cell_type": "markdown",
      "id": "c96223e4",
      "metadata": {
        "id": "c96223e4"
      },
      "source": [
        "### Фаззинг (Тестирование на случайных структурированных входных данных)\n",
        "\n",
        "**4.1.** (1 балл)\n",
        "\n",
        "Продолжение раздела \"Контрактное программирование\" из части 1. Напишите тест, доказывающий, что переданная на вход функция коммутативна. Используйте модуль `hypothesis`. Запустите тесты для реализованных ранее функций `euclidean_distance` и `manhattan_distance`.  "
      ]
    },
    {
      "cell_type": "markdown",
      "id": "bb71e5ae",
      "metadata": {
        "id": "bb71e5ae"
      },
      "source": [
        "### Инварианты классов\n",
        "\n",
        "**4.2.** (1 балл)\n",
        "\n",
        "В приведённом ниже коде для работы с банковским счётом есть следующие проблемы:\n",
        "\n",
        "1. Снятие суммы без проверки баланса.\n",
        "2. Снятие/добавление отрицательной суммы на счет.\n",
        "3. В поле `balance` может быть записано всё что угодно.\n",
        "\n",
        "Решите их путём добавления инвариантов класса `deal.inv`. Напишите тесты для всех методов класса `BankAccount`. Обязательно напишите тест, проверяющий, что баланс равен 0.2 после зачисления 0.3 и снятия 0.1 средств."
      ]
    },
    {
      "cell_type": "code",
      "execution_count": null,
      "id": "73dbcd6f",
      "metadata": {
        "id": "73dbcd6f"
      },
      "outputs": [],
      "source": [
        "class BankAccount:\n",
        "    def __init__(self, balance=0):\n",
        "        self.balance = balance\n",
        "\n",
        "    def deposit(self, amount):\n",
        "        self.balance += amount\n",
        "        return f\"{amount} средств успешно зачислены на счёт.\"\n",
        "\n",
        "    def withdraw(self, amount):\n",
        "        self.balance -= amount\n",
        "        return f\"{amount} средств успешно сняты с счёта.\"\n",
        "\n",
        "    def check_balance(self):\n",
        "        return f\"Баланс счёта: {self.balance}\""
      ]
    },
    {
      "cell_type": "code",
      "execution_count": 2,
      "id": "b008ba24",
      "metadata": {},
      "outputs": [
        {
          "ename": "TypeError",
          "evalue": "metaclass conflict: the metaclass of a derived class must be a (non-strict) subclass of the metaclasses of all its bases",
          "output_type": "error",
          "traceback": [
            "\u001b[1;31m---------------------------------------------------------------------------\u001b[0m",
            "\u001b[1;31mTypeError\u001b[0m                                 Traceback (most recent call last)",
            "Cell \u001b[1;32mIn[2], line 6\u001b[0m\n\u001b[0;32m      3\u001b[0m \u001b[39mclass\u001b[39;00m \u001b[39mBankAccountMeta\u001b[39;00m(\u001b[39mtype\u001b[39m):\n\u001b[0;32m      4\u001b[0m     \u001b[39mpass\u001b[39;00m\n\u001b[1;32m----> 6\u001b[0m \u001b[39mclass\u001b[39;49;00m \u001b[39mBankAccount\u001b[39;49;00m(metaclass\u001b[39m=\u001b[39;49mBankAccountMeta):\n\u001b[0;32m      7\u001b[0m     \u001b[39m@inv\u001b[39;49m(\u001b[39mlambda\u001b[39;49;00m \u001b[39mself\u001b[39;49m: \u001b[39mself\u001b[39;49m\u001b[39m.\u001b[39;49mbalance \u001b[39m>\u001b[39;49m\u001b[39m=\u001b[39;49m \u001b[39m0\u001b[39;49m)\n\u001b[0;32m      8\u001b[0m     \u001b[39mdef\u001b[39;49;00m \u001b[39minit\u001b[39;49m(\u001b[39mself\u001b[39;49m, balance\u001b[39m=\u001b[39;49m\u001b[39m0\u001b[39;49m):\n\u001b[0;32m      9\u001b[0m         \u001b[39mself\u001b[39;49m\u001b[39m.\u001b[39;49mbalance \u001b[39m=\u001b[39;49m balance\n",
            "Cell \u001b[1;32mIn[2], line 7\u001b[0m, in \u001b[0;36mBankAccount\u001b[1;34m()\u001b[0m\n\u001b[0;32m      6\u001b[0m \u001b[39mclass\u001b[39;00m \u001b[39mBankAccount\u001b[39;00m(metaclass\u001b[39m=\u001b[39mBankAccountMeta):\n\u001b[1;32m----> 7\u001b[0m     \u001b[39m@inv\u001b[39;49m(\u001b[39mlambda\u001b[39;49;00m \u001b[39mself\u001b[39;49m: \u001b[39mself\u001b[39;49m\u001b[39m.\u001b[39;49mbalance \u001b[39m>\u001b[39;49m\u001b[39m=\u001b[39;49m \u001b[39m0\u001b[39;49m)\n\u001b[0;32m      8\u001b[0m     \u001b[39mdef\u001b[39;49;00m \u001b[39minit\u001b[39;49m(\u001b[39mself\u001b[39;49m, balance\u001b[39m=\u001b[39;49m\u001b[39m0\u001b[39;49m):\n\u001b[0;32m      9\u001b[0m         \u001b[39mself\u001b[39;49m\u001b[39m.\u001b[39;49mbalance \u001b[39m=\u001b[39;49m balance\n\u001b[0;32m     11\u001b[0m     \u001b[39m@inv\u001b[39m(\u001b[39mlambda\u001b[39;00m \u001b[39mself\u001b[39m, amount: amount \u001b[39m>\u001b[39m\u001b[39m=\u001b[39m \u001b[39m0\u001b[39m)\n\u001b[0;32m     12\u001b[0m     \u001b[39mdef\u001b[39;00m \u001b[39mdeposit\u001b[39m(\u001b[39mself\u001b[39m, amount):\n",
            "File \u001b[1;32md:\\.repos\\Python\\kispython\\Venv\\Lib\\site-packages\\deal\\_runtime\\_invariant.py:49\u001b[0m, in \u001b[0;36minvariant\u001b[1;34m(validator, _class)\u001b[0m\n\u001b[0;32m     47\u001b[0m invs \u001b[39m=\u001b[39m \u001b[39mgetattr\u001b[39m(_class, ATTR, \u001b[39mNone\u001b[39;00m)\n\u001b[0;32m     48\u001b[0m \u001b[39mif\u001b[39;00m invs \u001b[39mis\u001b[39;00m \u001b[39mNone\u001b[39;00m:\n\u001b[1;32m---> 49\u001b[0m     patched_class \u001b[39m=\u001b[39m \u001b[39mtype\u001b[39;49m(\n\u001b[0;32m     50\u001b[0m         _class\u001b[39m.\u001b[39;49m\u001b[39m__name__\u001b[39;49m \u001b[39m+\u001b[39;49m \u001b[39m'\u001b[39;49m\u001b[39mInvarianted\u001b[39;49m\u001b[39m'\u001b[39;49m,\n\u001b[0;32m     51\u001b[0m         (InvariantedClass, _class),\n\u001b[0;32m     52\u001b[0m         {ATTR: [validator]},\n\u001b[0;32m     53\u001b[0m     )\n\u001b[0;32m     54\u001b[0m \u001b[39melse\u001b[39;00m:\n\u001b[0;32m     55\u001b[0m     patched_class \u001b[39m=\u001b[39m \u001b[39mtype\u001b[39m(\n\u001b[0;32m     56\u001b[0m         _class\u001b[39m.\u001b[39m\u001b[39m__name__\u001b[39m,\n\u001b[0;32m     57\u001b[0m         (_class, ),\n\u001b[0;32m     58\u001b[0m         {ATTR: invs \u001b[39m+\u001b[39m [validator]},\n\u001b[0;32m     59\u001b[0m     )\n",
            "\u001b[1;31mTypeError\u001b[0m: metaclass conflict: the metaclass of a derived class must be a (non-strict) subclass of the metaclasses of all its bases"
          ]
        }
      ],
      "source": [
        "from deal import inv\n",
        "\n",
        "class BankAccount:\n",
        "    @inv(lambda self: self.balance >= 0)\n",
        "    def __init__(self, balance=0):\n",
        "        self.balance = balance\n",
        "\n",
        "    @inv(lambda self, amount: amount >= 0)\n",
        "    def deposit(self, amount):\n",
        "        self.balance += amount\n",
        "        return f\"{amount} средств успешно зачислены на счёт.\"\n",
        "\n",
        "    @inv(lambda self, amount: amount >= 0 and amount <= self.balance)\n",
        "    def withdraw(self, amount):\n",
        "        self.balance -= amount\n",
        "        return f\"{amount} средств успешно сняты с счёта.\"\n",
        "\n",
        "    @inv(lambda self: isinstance(self.balance, (int, float)))\n",
        "    def check_balance(self):\n",
        "        return f\"Баланс счёта: {self.balance}\"\n",
        "\n",
        "\n",
        "# Тесты\n",
        "def test_bank_account():\n",
        "    account = BankAccount()\n",
        "    assert account.check_balance() == \"Баланс счёта: 0\"\n",
        "    \n",
        "    account.deposit(0.3)\n",
        "    assert account.check_balance() == \"Баланс счёта: 0.3\"\n",
        "    \n",
        "    account.withdraw(0.1)\n",
        "    assert account.check_balance() == \"Баланс счёта: 0.2\"\n",
        "    \n",
        "    assert account.deposit(-0.1) == AssertionError\n",
        "    assert account.withdraw(-0.1) == AssertionError\n",
        "    assert account.withdraw(0.3) == AssertionError"
      ]
    },
    {
      "cell_type": "markdown",
      "id": "118c1b8e",
      "metadata": {
        "id": "118c1b8e"
      },
      "source": [
        "### Мутационное тестирование\n",
        "\n",
        "**4.3.** (1 балл)\n",
        "\n",
        "Суть мутационного тестирования (mutation testing) состоит в привнесении ошибок (\"мутаций\") в исходную программу (тем самым создаются \"программы-мутанты\"), с тем, чтобы оценить, сможет ли существующий набор тестов эти ошибки определить. Если набор тестов успешно выполняется на программе-мутанте, то это означает, что используемые тесты нуждаются в развитии.\n",
        "\n",
        "Продолжение раздела \"Библиотеки pytest и coverage (задача 2.1.)\". Намеренно внесите минимум по одному ошибочному изменению в коде методов следующих классов:\n",
        "\n",
        "\n",
        "1.   User - `authenticate()`, `authorize()`.\n",
        "2.   Project - `add_task()`, `remove_task()`, `find_task_by_name()`, `find_task_by_start_date()`, `is_completed()`.\n",
        "3.   Task - `change_status()`, `remove_performer()`.\n",
        "\n",
        "Проверьте существующий набор тестов для задачи 2.1. на обновлённом коде. Проходят ли какие-то тесты? Попытайтесь добиться обратного эффекта: ни один тест, проверяющий указанные выше методы, не должен проходить. Проверку возможно осуществлять также через `pytest` и `coverage`."
      ]
    }
  ],
  "metadata": {
    "colab": {
      "provenance": []
    },
    "kernelspec": {
      "display_name": "Python 3 (ipykernel)",
      "language": "python",
      "name": "python3"
    },
    "language_info": {
      "codemirror_mode": {
        "name": "ipython",
        "version": 3
      },
      "file_extension": ".py",
      "mimetype": "text/x-python",
      "name": "python",
      "nbconvert_exporter": "python",
      "pygments_lexer": "ipython3",
      "version": "3.11.1"
    }
  },
  "nbformat": 4,
  "nbformat_minor": 5
}
