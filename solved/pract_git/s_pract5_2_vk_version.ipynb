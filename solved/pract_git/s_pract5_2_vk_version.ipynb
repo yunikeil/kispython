{
  "cells": [
    {
      "attachments": {},
      "cell_type": "markdown",
      "id": "bca6c238",
      "metadata": {
        "id": "bca6c238"
      },
      "source": [
        "# Практические занятия №12-13 (часть 2)"
      ]
    },
    {
      "attachments": {},
      "cell_type": "markdown",
      "id": "c96223e4",
      "metadata": {
        "id": "c96223e4"
      },
      "source": [
        "### Фаззинг (Тестирование на случайных структурированных входных данных)\n",
        "\n",
        "**4.1.** (1 балл)\n",
        "\n",
        "Продолжение раздела \"Контрактное программирование\" из части 1. Напишите тест, доказывающий, что переданная на вход функция коммутативна. Используйте модуль `hypothesis`. Запустите тесты для реализованных ранее функций `euclidean_distance` и `manhattan_distance`.  "
      ]
    },
    {
      "cell_type": "code",
      "execution_count": null,
      "id": "cfe74096",
      "metadata": {},
      "outputs": [],
      "source": [
        "import numpy as np\n",
        "\n",
        "\n",
        "def euclidean_distance(p1, p2):\n",
        "    '''\n",
        "    >>> euclidean_distance([0, 0], [3, 4])\n",
        "    5.0\n",
        "    '''\n",
        "    return float(np.sqrt(sum((p - q) ** 2 for p, q in zip(p1, p2))))\n",
        "\n",
        "\n",
        "def manhattan_distance(p1, p2):\n",
        "    '''\n",
        "    >>> manhattan_distance([0, 0], [3, 4])\n",
        "    7.0\n",
        "    '''\n",
        "    return float(sum(abs(p-q) for p, q in zip(p1, p2)))\n",
        "\n",
        "\n",
        "\n",
        "\n",
        "\n"
      ]
    },
    {
      "cell_type": "code",
      "execution_count": 16,
      "id": "7e1bda66",
      "metadata": {},
      "outputs": [
        {
          "name": "stdout",
          "output_type": "stream",
          "text": [
            "\u001b[32m.\u001b[0m\u001b[32m.\u001b[0m\u001b[33m                                                                                           [100%]\u001b[0m\n",
            "\u001b[33m======================================== warnings summary =========================================\u001b[0m\n",
            "..\\..\\Venv\\lib\\site-packages\\_pytest\\config\\__init__.py:1179\n",
            "  c:\\Users\\iyuna\\source\\repos\\python\\kispython\\Venv\\lib\\site-packages\\_pytest\\config\\__init__.py:1179: PytestAssertRewriteWarning: Module already imported so cannot be rewritten: hypothesis\n",
            "    self._mark_plugins_for_rewrite(hook)\n",
            "\n",
            "-- Docs: https://docs.pytest.org/en/stable/how-to/capture-warnings.html\n",
            "\u001b[33m\u001b[32m2 passed\u001b[0m, \u001b[33m\u001b[1m1 warning\u001b[0m\u001b[33m in 0.39s\u001b[0m\u001b[0m\n"
          ]
        },
        {
          "data": {
            "text/plain": [
              "<ExitCode.OK: 0>"
            ]
          },
          "execution_count": 16,
          "metadata": {},
          "output_type": "execute_result"
        }
      ],
      "source": [
        "import hypothesis.strategies as st\n",
        "from hypothesis import given\n",
        "import numpy as np\n",
        "import ipytest\n",
        "\n",
        "\n",
        "def euclidean_distance(p1, p2):\n",
        "    '''\n",
        "    >>> euclidean_distance([0, 0], [3, 4])\n",
        "    5.0\n",
        "    '''\n",
        "    return float(np.sqrt(sum((p - q) ** 2 for p, q in zip(p1, p2))))\n",
        "\n",
        "\n",
        "def manhattan_distance(p1, p2):\n",
        "    '''\n",
        "    >>> manhattan_distance([0, 0], [3, 4])\n",
        "    7.0\n",
        "    '''\n",
        "    return float(sum(abs(p-q) for p, q in zip(p1, p2)))\n",
        "\n",
        "\n",
        "@given(\n",
        "    st.lists(st.floats(min_value=-100, max_value=100), min_size=3, max_size=3),\n",
        "    st.lists(st.floats(min_value=-100, max_value=100), min_size=3, max_size=3)\n",
        ")\n",
        "def test_euclidean_distance_commutativity(p1, p2):\n",
        "    assert euclidean_distance(p1, p2) == euclidean_distance(p2, p1)\n",
        "\n",
        "\n",
        "@given(\n",
        "    st.lists(st.floats(min_value=-100, max_value=100), min_size=3, max_size=3),\n",
        "    st.lists(st.floats(min_value=-100, max_value=100), min_size=3, max_size=3)\n",
        ")\n",
        "def test_manhattan_distance_commutativity(p1, p2):\n",
        "    assert manhattan_distance(p1, p2) == manhattan_distance(p2, p1)\n",
        "\n",
        "\n",
        "\n",
        "ipytest.run(raise_on_error=True)\n"
      ]
    },
    {
      "attachments": {},
      "cell_type": "markdown",
      "id": "bb71e5ae",
      "metadata": {
        "id": "bb71e5ae"
      },
      "source": [
        "### Инварианты классов\n",
        "\n",
        "**4.2.** (1 балл)\n",
        "\n",
        "В приведённом ниже коде для работы с банковским счётом есть следующие проблемы:\n",
        "\n",
        "1. Снятие суммы без проверки баланса.\n",
        "2. Снятие/добавление отрицательной суммы на счет.\n",
        "3. В поле `balance` может быть записано всё что угодно.\n",
        "\n",
        "Решите их путём добавления инвариантов класса `deal.inv`. Напишите тесты для всех методов класса `BankAccount`. Обязательно напишите тест, проверяющий, что баланс равен 0.2 после зачисления 0.3 и снятия 0.1 средств."
      ]
    },
    {
      "cell_type": "code",
      "execution_count": 69,
      "id": "122e58d6",
      "metadata": {},
      "outputs": [
        {
          "name": "stdout",
          "output_type": "stream",
          "text": [
            "1\n"
          ]
        },
        {
          "ename": "AttributeError",
          "evalue": "'BankAccountInvarianted' object has no attribute 'balance'",
          "output_type": "error",
          "traceback": [
            "\u001b[1;31m---------------------------------------------------------------------------\u001b[0m",
            "\u001b[1;31mAttributeError\u001b[0m                            Traceback (most recent call last)",
            "Cell \u001b[1;32mIn[69], line 36\u001b[0m\n\u001b[0;32m     32\u001b[0m     \u001b[39mdef\u001b[39;00m \u001b[39mcheck_balance\u001b[39m(\u001b[39mself\u001b[39m):\n\u001b[0;32m     33\u001b[0m         \u001b[39mreturn\u001b[39;00m \u001b[39mf\u001b[39m\u001b[39m\"\u001b[39m\u001b[39mБаланс счёта: \u001b[39m\u001b[39m{\u001b[39;00m\u001b[39mself\u001b[39m\u001b[39m.\u001b[39mbalance\u001b[39m}\u001b[39;00m\u001b[39m\"\u001b[39m\n\u001b[1;32m---> 36\u001b[0m bankaccount \u001b[39m=\u001b[39m BankAccount(\u001b[39m10\u001b[39;49m)\n\u001b[0;32m     37\u001b[0m \u001b[39mprint\u001b[39m(bankaccount\u001b[39m.\u001b[39mdeposit(\u001b[39m10\u001b[39m))\n\u001b[0;32m     38\u001b[0m \u001b[39mprint\u001b[39m(bankaccount\u001b[39m.\u001b[39mcheck_balance())\n",
            "Cell \u001b[1;32mIn[69], line 18\u001b[0m, in \u001b[0;36mBankAccount.__init__\u001b[1;34m(self, balance)\u001b[0m\n\u001b[0;32m     17\u001b[0m \u001b[39mdef\u001b[39;00m \u001b[39m__init__\u001b[39m(\u001b[39mself\u001b[39m, balance\u001b[39m=\u001b[39m\u001b[39m0\u001b[39m):\n\u001b[1;32m---> 18\u001b[0m     \u001b[39mself\u001b[39;49m\u001b[39m.\u001b[39;49mamount \u001b[39m=\u001b[39m \u001b[39m0\u001b[39m\n\u001b[0;32m     19\u001b[0m     \u001b[39mself\u001b[39m\u001b[39m.\u001b[39mbalance \u001b[39m=\u001b[39m balance\n",
            "File \u001b[1;32mc:\\Users\\iyuna\\source\\repos\\python\\kispython\\Venv\\lib\\site-packages\\deal\\_runtime\\_invariant.py:43\u001b[0m, in \u001b[0;36mInvariantedClass.__setattr__\u001b[1;34m(self, name, value)\u001b[0m\n\u001b[0;32m     41\u001b[0m \u001b[39mdef\u001b[39;00m \u001b[39m__setattr__\u001b[39m(\u001b[39mself\u001b[39m, name: \u001b[39mstr\u001b[39m, value) \u001b[39m-\u001b[39m\u001b[39m>\u001b[39m \u001b[39mNone\u001b[39;00m:\n\u001b[0;32m     42\u001b[0m     \u001b[39msuper\u001b[39m()\u001b[39m.\u001b[39m\u001b[39m__setattr__\u001b[39m(name, value)\n\u001b[1;32m---> 43\u001b[0m     \u001b[39mself\u001b[39;49m\u001b[39m.\u001b[39;49m_deal_validate()\n",
            "File \u001b[1;32mc:\\Users\\iyuna\\source\\repos\\python\\kispython\\Venv\\lib\\site-packages\\deal\\_runtime\\_invariant.py:24\u001b[0m, in \u001b[0;36mInvariantedClass._deal_validate\u001b[1;34m(self)\u001b[0m\n\u001b[0;32m     22\u001b[0m \u001b[39mdef\u001b[39;00m \u001b[39m_deal_validate\u001b[39m(\u001b[39mself\u001b[39m) \u001b[39m-\u001b[39m\u001b[39m>\u001b[39m \u001b[39mNone\u001b[39;00m:\n\u001b[0;32m     23\u001b[0m     \u001b[39mfor\u001b[39;00m validator \u001b[39min\u001b[39;00m \u001b[39mself\u001b[39m\u001b[39m.\u001b[39m_deal_invariants:\n\u001b[1;32m---> 24\u001b[0m         validator\u001b[39m.\u001b[39;49mvalidate((\u001b[39mself\u001b[39;49m,), {})\n",
            "File \u001b[1;32mc:\\Users\\iyuna\\source\\repos\\python\\kispython\\Venv\\lib\\site-packages\\deal\\_runtime\\_validators.py:175\u001b[0m, in \u001b[0;36mValidator._init\u001b[1;34m(self, args, kwargs, exc)\u001b[0m\n\u001b[0;32m    169\u001b[0m \u001b[39m\u001b[39m\u001b[39m\"\"\"\u001b[39;00m\n\u001b[0;32m    170\u001b[0m \u001b[39mCalled as `validator` when the function is called in the first time.\u001b[39;00m\n\u001b[0;32m    171\u001b[0m \u001b[39mDoes some costly deferred initializations (involving `inspect`).\u001b[39;00m\n\u001b[0;32m    172\u001b[0m \u001b[39mThen sets more appropriate validator as `validator` and calls it.\u001b[39;00m\n\u001b[0;32m    173\u001b[0m \u001b[39m\"\"\"\u001b[39;00m\n\u001b[0;32m    174\u001b[0m \u001b[39mself\u001b[39m\u001b[39m.\u001b[39minit()\n\u001b[1;32m--> 175\u001b[0m \u001b[39mself\u001b[39;49m\u001b[39m.\u001b[39;49mvalidate(args, kwargs, exc)\n",
            "File \u001b[1;32mc:\\Users\\iyuna\\source\\repos\\python\\kispython\\Venv\\lib\\site-packages\\deal\\_runtime\\_validators.py:207\u001b[0m, in \u001b[0;36mValidator._explicit_validation\u001b[1;34m(self, args, kwargs, exc)\u001b[0m\n\u001b[0;32m    201\u001b[0m \u001b[39mdef\u001b[39;00m \u001b[39m_explicit_validation\u001b[39m(\u001b[39mself\u001b[39m, args: Args, kwargs: Kwargs, exc\u001b[39m=\u001b[39m\u001b[39mNone\u001b[39;00m) \u001b[39m-\u001b[39m\u001b[39m>\u001b[39m \u001b[39mNone\u001b[39;00m:\n\u001b[0;32m    202\u001b[0m \u001b[39m    \u001b[39m\u001b[39m\"\"\"Validate contract using explicit validator.\u001b[39;00m\n\u001b[0;32m    203\u001b[0m \n\u001b[0;32m    204\u001b[0m \u001b[39m    Explicit validator is a function that has the same signature\u001b[39;00m\n\u001b[0;32m    205\u001b[0m \u001b[39m    as the wrapped function.\u001b[39;00m\n\u001b[0;32m    206\u001b[0m \u001b[39m    \"\"\"\u001b[39;00m\n\u001b[1;32m--> 207\u001b[0m     validation_result \u001b[39m=\u001b[39m \u001b[39mself\u001b[39m\u001b[39m.\u001b[39mvalidator(\u001b[39m*\u001b[39margs, \u001b[39m*\u001b[39m\u001b[39m*\u001b[39mkwargs)\n\u001b[0;32m    208\u001b[0m     \u001b[39m# is invalid (validator returns error message)\u001b[39;00m\n\u001b[0;32m    209\u001b[0m     \u001b[39mif\u001b[39;00m \u001b[39mtype\u001b[39m(validation_result) \u001b[39mis\u001b[39;00m \u001b[39mstr\u001b[39m:\n",
            "Cell \u001b[1;32mIn[69], line 13\u001b[0m, in \u001b[0;36mBankAccount.<lambda>\u001b[1;34m(bankaccount)\u001b[0m\n\u001b[0;32m      7\u001b[0m     \u001b[39mreturn\u001b[39;00m \u001b[39mTrue\u001b[39;00m\n\u001b[0;32m      9\u001b[0m \u001b[39m# AttributeError: 'BankAccountInvarianted' object has no attribute 'amount' ???????????????????????????????????\u001b[39;00m\n\u001b[0;32m     11\u001b[0m \u001b[39m@deal\u001b[39m\u001b[39m.\u001b[39minv(\n\u001b[0;32m     12\u001b[0m     \u001b[39mlambda\u001b[39;00m bankaccount: print_(\u001b[39m\"\u001b[39m\u001b[39m1\u001b[39m\u001b[39m\"\u001b[39m)\n\u001b[1;32m---> 13\u001b[0m     \u001b[39mand\u001b[39;00m \u001b[39misinstance\u001b[39m(bankaccount\u001b[39m.\u001b[39;49mbalance, \u001b[39mint\u001b[39m \u001b[39m|\u001b[39m \u001b[39mfloat\u001b[39m) \u001b[39mand\u001b[39;00m bankaccount\u001b[39m.\u001b[39mbalance \u001b[39m>\u001b[39m\u001b[39m=\u001b[39m \u001b[39m0\u001b[39m \n\u001b[0;32m     14\u001b[0m     \u001b[39mand\u001b[39;00m \u001b[39misinstance\u001b[39m(bankaccount\u001b[39m.\u001b[39mamount, \u001b[39mint\u001b[39m \u001b[39m|\u001b[39m \u001b[39mfloat\u001b[39m) \u001b[39mand\u001b[39;00m bankaccount\u001b[39m.\u001b[39mamount \u001b[39m>\u001b[39m\u001b[39m=\u001b[39m \u001b[39m0\u001b[39m    \n\u001b[0;32m     15\u001b[0m )\n\u001b[0;32m     16\u001b[0m \u001b[39mclass\u001b[39;00m \u001b[39mBankAccount\u001b[39;00m:\n\u001b[0;32m     17\u001b[0m     \u001b[39mdef\u001b[39;00m \u001b[39m__init__\u001b[39m(\u001b[39mself\u001b[39m, balance\u001b[39m=\u001b[39m\u001b[39m0\u001b[39m):\n\u001b[0;32m     18\u001b[0m         \u001b[39mself\u001b[39m\u001b[39m.\u001b[39mamount \u001b[39m=\u001b[39m \u001b[39m0\u001b[39m\n",
            "File \u001b[1;32mc:\\Users\\iyuna\\source\\repos\\python\\kispython\\Venv\\lib\\site-packages\\deal\\_runtime\\_invariant.py:33\u001b[0m, in \u001b[0;36mInvariantedClass.__getattribute__\u001b[1;34m(self, name)\u001b[0m\n\u001b[0;32m     32\u001b[0m \u001b[39mdef\u001b[39;00m \u001b[39m__getattribute__\u001b[39m(\u001b[39mself\u001b[39m, name: \u001b[39mstr\u001b[39m):\n\u001b[1;32m---> 33\u001b[0m     attr \u001b[39m=\u001b[39m \u001b[39msuper\u001b[39;49m()\u001b[39m.\u001b[39;49m\u001b[39m__getattribute__\u001b[39;49m(name)\n\u001b[0;32m     34\u001b[0m     \u001b[39mif\u001b[39;00m name \u001b[39min\u001b[39;00m DEAL_ATTRS:\n\u001b[0;32m     35\u001b[0m         \u001b[39mreturn\u001b[39;00m attr\n",
            "\u001b[1;31mAttributeError\u001b[0m: 'BankAccountInvarianted' object has no attribute 'balance'"
          ]
        }
      ],
      "source": [
        "#import deal\n",
        "#import ipytest\n",
        "\n",
        "\n",
        "def print_(pr):\n",
        "    print(str(pr))\n",
        "    return True\n",
        "\n",
        "# AttributeError: 'BankAccountInvarianted' object has no attribute 'amount' ???????????????????????????????????\n",
        "# Я поменял их местами в init и теперь исчезла balance\n",
        "\n",
        "@deal.inv(\n",
        "    lambda bankaccount: print_(\"1\")\n",
        "    and isinstance(bankaccount.balance, int | float) and bankaccount.balance >= 0 \n",
        "    and isinstance(bankaccount.amount, int | float) and bankaccount.amount >= 0    \n",
        ")\n",
        "class BankAccount:\n",
        "    def __init__(self, balance=0):\n",
        "        self.amount = 0\n",
        "        self.balance = balance\n",
        "        \n",
        "    def deposit(self, amount_):\n",
        "        self.amount = amount_\n",
        "        self.balance += self.amount\n",
        "        return f\"{self.amount} средств успешно зачислены на счёт.\"\n",
        "\n",
        "    def withdraw(self, amount_):\n",
        "        self.amount = amount_\n",
        "        self.balance -= self.amount\n",
        "        return f\"{self.amount} средств успешно сняты с счёта.\"\n",
        "\n",
        "    def check_balance(self):\n",
        "        return f\"Баланс счёта: {self.balance}\"\n",
        "\n",
        "\n",
        "bankaccount = BankAccount(10)\n",
        "print(bankaccount.deposit(10))\n",
        "print(bankaccount.check_balance())\n",
        "\n",
        "\"\"\"\n",
        "# Тесты\n",
        "def test_bank_account():\n",
        "    account = BankAccount()\n",
        "    assert account.check_balance() == \"Баланс счёта: 0\"\n",
        "    \n",
        "    assert account.deposit(0.3) == \"0.3 средств успешно зачислены на счёт.\"\n",
        "    assert account.check_balance() == \"Баланс счёта: 0.3\"\n",
        "    \n",
        "    assert account.withdraw(0.1) == \"0.1 средств успешно сняты с счёта.\"\n",
        "    assert account.check_balance() == \"Баланс счёта: 0.2\"\n",
        "    \n",
        "    try:\n",
        "        account.withdraw(0.5)\n",
        "    except deal.InvContractError:\n",
        "        pass\n",
        "    else:\n",
        "        assert False, \"Ожидается ошибка при попытке снять больше, чем есть на счете\"\n",
        "    \n",
        "    try:\n",
        "        account.deposit(-0.1)\n",
        "    except deal.InvContractError:\n",
        "        pass\n",
        "    else:\n",
        "        assert False, \"Ожидается ошибка при попытке зачислить отрицательную сумму\"\n",
        "    \n",
        "    try:\n",
        "        account.withdraw(-0.1)\n",
        "    except deal.InvContractError:\n",
        "        pass\n",
        "    else:\n",
        "        assert False, \"Ожидается ошибка при попытке снять отрицательную сумму\"\n",
        "\"\"\"\n",
        "\n",
        "# Первый способ - костыль\n",
        "# https://deal.readthedocs.io/basic/values.html?highlight=deal.inv#deal-inv\n",
        "\"\"\"\n",
        "Invariant check condition in the next cases:\n",
        " Before class method execution.\n",
        " After class method execution.\n",
        " After some class attribute setting.\n",
        "\"\"\"\n",
        "\n",
        "#ipytest.run(raise_on_error=True)"
      ]
    },
    {
      "cell_type": "code",
      "execution_count": 81,
      "id": "f2486e3c",
      "metadata": {},
      "outputs": [
        {
          "name": "stdout",
          "output_type": "stream",
          "text": [
            "\u001b[1m======================================= test session starts =======================================\u001b[0m\n",
            "platform win32 -- Python 3.10.2, pytest-7.3.1, pluggy-1.0.0\n",
            "rootdir: c:\\Users\\iyuna\\source\\repos\\python\\kispython\\solved\\pract_git\n",
            "plugins: hypothesis-6.75.3, typeguard-2.13.3\n",
            "collected 1 item\n",
            "\n",
            "t_6ef4bde501f349a5a447c12388f8eaf7.py \u001b[32m.\u001b[0m\u001b[32m                                                      [100%]\u001b[0m\n",
            "\n",
            "\u001b[32m======================================== \u001b[32m\u001b[1m1 passed\u001b[0m\u001b[32m in 0.01s\u001b[0m\u001b[32m ========================================\u001b[0m\n"
          ]
        },
        {
          "data": {
            "text/plain": [
              "<ExitCode.OK: 0>"
            ]
          },
          "execution_count": 81,
          "metadata": {},
          "output_type": "execute_result"
        }
      ],
      "source": [
        "import deal\n",
        "import ipytest\n",
        "\n",
        "\n",
        "def print_(pr):\n",
        "    print(str(pr))\n",
        "    return True\n",
        "\n",
        "\n",
        "@deal.inv(\n",
        "    lambda bankaccount: isinstance(bankaccount.balance, int | float)\n",
        "    and bankaccount.balance >= 0\n",
        ")\n",
        "class BankAccount:\n",
        "    def __init__(self, balance=0):\n",
        "        self.balance = balance\n",
        "    \n",
        "    @deal.pre(lambda self, amount: isinstance(amount, int | float) and amount > 0 )\n",
        "    def deposit(self, amount):\n",
        "        self.balance += amount\n",
        "        return f\"{amount} средств успешно зачислены на счёт.\"\n",
        "    \n",
        "    @deal.pre(lambda self, amount: amount > 0 and self.balance >= amount)\n",
        "    def withdraw(self, amount):\n",
        "        self.balance -= amount\n",
        "        return f\"{amount} средств успешно сняты с счёта.\"\n",
        "\n",
        "    def check_balance(self):\n",
        "        return f\"Баланс счёта: {self.balance}\"\n",
        "\n",
        "\n",
        "bankaccount = BankAccount(10)\n",
        "bankaccount.deposit(10)\n",
        "\n",
        "\n",
        "# Тесты\n",
        "def test_bank_account():\n",
        "    account = BankAccount()\n",
        "    assert account.check_balance() == \"Баланс счёта: 0\"\n",
        "    \n",
        "    assert account.deposit(0.3) == \"0.3 средств успешно зачислены на счёт.\"\n",
        "    assert account.check_balance() == \"Баланс счёта: 0.3\"\n",
        "    \n",
        "    assert account.withdraw(0.1) == \"0.1 средств успешно сняты с счёта.\"\n",
        "    assert account.check_balance() == f\"Баланс счёта: {0.3 - 0.1}\"\n",
        "    \n",
        "\n",
        "\n",
        "# Второй способ - добавить deal.pre и тд...\n",
        "# https://deal.readthedocs.io/basic/values.html?highlight=deal.inv#deal-inv\n",
        "\"\"\"\n",
        "Invariant check condition in the next cases:\n",
        " Before class method execution.\n",
        " After class method execution.\n",
        " After some class attribute setting.\n",
        "\"\"\"\n",
        "\n",
        "ipytest.run(raise_on_error=True)\n"
      ]
    },
    {
      "cell_type": "code",
      "execution_count": null,
      "id": "fa8d61b9",
      "metadata": {},
      "outputs": [],
      "source": [
        "import deal\n",
        "\n",
        "\n",
        "#@deal.inv(lambda bankaccount: bankaccount.balance >= 0 and isinstance(bankaccount.balance, int | float)\n",
        "class BankAccount():\n",
        "    #@deal.inv(lambda self, amount: isinstance(amount, int | float))\n",
        "    def __init__(self, balance=0):\n",
        "        self.balance = balance\n",
        "\n",
        "    #@deal.inv(lambda self, amount: isinstance(amount, int | float) and amount > 0 )\n",
        "    def deposit(self, amount):\n",
        "        self.balance += amount\n",
        "        return f\"{amount} средств успешно зачислены на счёт.\"\n",
        "\n",
        "    #@deal.inv(lambda self, amount: amount > 0 and self.balance >= amount)\n",
        "    def withdraw(self, amount):\n",
        "        self.balance -= amount\n",
        "        return f\"{amount} средств успешно сняты с счёта.\"\n",
        "\n",
        "    def check_balance(self):\n",
        "        return f\"Баланс счёта: {self.balance}\"\n"
      ]
    },
    {
      "cell_type": "code",
      "execution_count": 17,
      "id": "73dbcd6f",
      "metadata": {
        "id": "73dbcd6f"
      },
      "outputs": [],
      "source": [
        "class BankAccount:\n",
        "    def __init__(self, balance=0):\n",
        "        self.balance = balance\n",
        "\n",
        "    def deposit(self, amount):\n",
        "        self.balance += amount\n",
        "        return f\"{amount} средств успешно зачислены на счёт.\"\n",
        "\n",
        "    def withdraw(self, amount):\n",
        "        self.balance -= amount\n",
        "        return f\"{amount} средств успешно сняты с счёта.\"\n",
        "\n",
        "    def check_balance(self):\n",
        "        return f\"Баланс счёта: {self.balance}\""
      ]
    },
    {
      "attachments": {},
      "cell_type": "markdown",
      "id": "118c1b8e",
      "metadata": {
        "id": "118c1b8e"
      },
      "source": [
        "### Мутационное тестирование\n",
        "\n",
        "**4.3.** (1 балл)\n",
        "\n",
        "Суть мутационного тестирования (mutation testing) состоит в привнесении ошибок (\"мутаций\") в исходную программу (тем самым создаются \"программы-мутанты\"), с тем, чтобы оценить, сможет ли существующий набор тестов эти ошибки определить. Если набор тестов успешно выполняется на программе-мутанте, то это означает, что используемые тесты нуждаются в развитии.\n",
        "\n",
        "Продолжение раздела \"Библиотеки pytest и coverage (задача 2.1.)\". Намеренно внесите минимум по одному ошибочному изменению в коде методов следующих классов:\n",
        "\n",
        "\n",
        "1.   User - `authenticate()`, `authorize()`.\n",
        "2.   Project - `add_task()`, `remove_task()`, `find_task_by_name()`, `find_task_by_start_date()`, `is_completed()`.\n",
        "3.   Task - `change_status()`, `remove_performer()`.\n",
        "\n",
        "Проверьте существующий набор тестов для задачи 2.1. на обновлённом коде. Проходят ли какие-то тесты? Попытайтесь добиться обратного эффекта: ни один тест, проверяющий указанные выше методы, не должен проходить. Проверку возможно осуществлять также через `pytest` и `coverage`."
      ]
    },
    {
      "cell_type": "code",
      "execution_count": null,
      "id": "bea75804",
      "metadata": {},
      "outputs": [],
      "source": []
    }
  ],
  "metadata": {
    "colab": {
      "provenance": []
    },
    "kernelspec": {
      "display_name": "Python 3 (ipykernel)",
      "language": "python",
      "name": "python3"
    },
    "language_info": {
      "codemirror_mode": {
        "name": "ipython",
        "version": 3
      },
      "file_extension": ".py",
      "mimetype": "text/x-python",
      "name": "python",
      "nbconvert_exporter": "python",
      "pygments_lexer": "ipython3",
      "version": "3.10.2"
    }
  },
  "nbformat": 4,
  "nbformat_minor": 5
}
