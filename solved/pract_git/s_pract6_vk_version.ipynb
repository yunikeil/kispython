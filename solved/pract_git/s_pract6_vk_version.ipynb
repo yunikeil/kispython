{
  "cells": [
    {
      "attachments": {},
      "cell_type": "markdown",
      "id": "VRKkpl3TaMiP",
      "metadata": {
        "id": "VRKkpl3TaMiP"
      },
      "source": [
        "# Практические занятия №15-16"
      ]
    },
    {
      "attachments": {},
      "cell_type": "markdown",
      "id": "8de2a95e",
      "metadata": {
        "id": "8de2a95e"
      },
      "source": [
        "**Разминка. Частичное применение**\n",
        "\n",
        "Как аргумент, так и возвращаемое некоторой функцией `f` значение может быть функцией, в этом случае функцию `f` называют *функцией высшего порядка* (ФВП). ФВП `f`, возвращающая функцию, может быть применена только к одному аргументу, а результатом будет новая функция, ожидающая остальные аргументы. В этом случае говорят о *частичном применении* `f`. *Каррированием* `f` называют преобразование функции от многих аргументов `f(x, y, z)` в набор функций, каждая из которых является функцией от одного аргумента `f(x)(y)(z)`."
      ]
    },
    {
      "attachments": {},
      "cell_type": "markdown",
      "id": "mN-3RnljvPDB",
      "metadata": {
        "id": "mN-3RnljvPDB"
      },
      "source": [
        "### Каррирование\n",
        "\n",
        "**1.1.** (0.1 балла)\n",
        "\n",
        "Реализуйте функцию `power(x, y)`, возводящую `x` в степень `y`."
      ]
    },
    {
      "cell_type": "code",
      "execution_count": null,
      "id": "b65b5c57",
      "metadata": {},
      "outputs": [],
      "source": [
        "\n",
        "def power(x, y):\n",
        "    return x ** y\n"
      ]
    },
    {
      "attachments": {},
      "cell_type": "markdown",
      "id": "58f4980b",
      "metadata": {
        "id": "58f4980b"
      },
      "source": [
        "**1.2.** (0.2 балла)\n",
        "\n",
        "Реализуйте каррированную функцию `power(x)(y)` при помощи именованных функций."
      ]
    },
    {
      "cell_type": "code",
      "execution_count": 2,
      "id": "a2f14806",
      "metadata": {},
      "outputs": [
        {
          "name": "stdout",
          "output_type": "stream",
          "text": [
            "4\n"
          ]
        }
      ],
      "source": [
        "\n",
        "\n",
        "def power(x):\n",
        "    def power_(y):\n",
        "        return x ** y\n",
        "    return power_\n",
        "\n",
        "\n",
        "print(power(2)(2))\n"
      ]
    },
    {
      "attachments": {},
      "cell_type": "markdown",
      "id": "7b4b7e8c",
      "metadata": {
        "id": "7b4b7e8c"
      },
      "source": [
        "**1.3.** (0.2 балла)\n",
        "\n",
        "Реализуйте каррированную функцию `power(x)(y)` при помощи анонимных функций `lambda`."
      ]
    },
    {
      "cell_type": "code",
      "execution_count": 3,
      "id": "4dec4e00",
      "metadata": {},
      "outputs": [
        {
          "name": "stdout",
          "output_type": "stream",
          "text": [
            "4\n"
          ]
        }
      ],
      "source": [
        "power = lambda x: (lambda y: x ** y)\n",
        "print(power(2)(2))"
      ]
    },
    {
      "attachments": {},
      "cell_type": "markdown",
      "id": "760d7f35",
      "metadata": {
        "id": "760d7f35"
      },
      "source": [
        "### Численное дифференцирование\n",
        "\n",
        "Первая производная функции $f$ в точке $x$ определяется с помощью предела:\n",
        "\n",
        "$f'(x)=\\lim _{h\\to 0}{\\dfrac {f(x+h)-f(x)}{h}}.$\n",
        "\n",
        "Простейшим численным методом *аппроксимации* (приближения) производной $f$ в точке $x$ является использование выражения:\n",
        "\n",
        "${\\dfrac {f(x+h)-f(x)}{h}}$, где $h \\in \\mathbb{R}$ — малое число."
      ]
    },
    {
      "attachments": {},
      "cell_type": "markdown",
      "id": "wc_kvVOlvT5W",
      "metadata": {
        "id": "wc_kvVOlvT5W"
      },
      "source": [
        "**2.1.** (0.2 балла)\n",
        "\n",
        "Напишите функцию `deriv` для приближенного вычисления производной в заданной точке $x$ при $h=10^{-6}$:\n",
        "\n",
        "```python\n",
        "deriv(lambda x: x ** 3)(5)\n",
        "```"
      ]
    },
    {
      "cell_type": "code",
      "execution_count": null,
      "id": "3fa2510b",
      "metadata": {},
      "outputs": [],
      "source": [
        "\n",
        "deriv = lambda f: lambda x: \n",
        "deriv(lambda x: x ** 3)(5)\n"
      ]
    },
    {
      "cell_type": "code",
      "execution_count": 6,
      "id": "2b28bce9",
      "metadata": {},
      "outputs": [
        {
          "ename": "TypeError",
          "evalue": "'int' object is not callable",
          "output_type": "error",
          "traceback": [
            "\u001b[1;31m---------------------------------------------------------------------------\u001b[0m",
            "\u001b[1;31mTypeError\u001b[0m                                 Traceback (most recent call last)",
            "Cell \u001b[1;32mIn[6], line 3\u001b[0m\n\u001b[0;32m      1\u001b[0m deriv \u001b[39m=\u001b[39m \u001b[39mlambda\u001b[39;00m f: \u001b[39mlambda\u001b[39;00m x: f(x)\n\u001b[1;32m----> 3\u001b[0m deriv(\u001b[39m1\u001b[39;49m)(\u001b[39m2\u001b[39;49m)\n",
            "Cell \u001b[1;32mIn[6], line 1\u001b[0m, in \u001b[0;36m<lambda>\u001b[1;34m(x)\u001b[0m\n\u001b[1;32m----> 1\u001b[0m deriv \u001b[39m=\u001b[39m \u001b[39mlambda\u001b[39;00m f: \u001b[39mlambda\u001b[39;00m x: f(x)\n\u001b[0;32m      3\u001b[0m deriv(\u001b[39m1\u001b[39m)(\u001b[39m2\u001b[39m)\n",
            "\u001b[1;31mTypeError\u001b[0m: 'int' object is not callable"
          ]
        }
      ],
      "source": [
        "deriv = lambda f: lambda x: f(x)\n",
        "\n",
        "deriv()(2)"
      ]
    },
    {
      "attachments": {},
      "cell_type": "markdown",
      "id": "1f3feb91",
      "metadata": {
        "id": "1f3feb91"
      },
      "source": [
        "**2.2.** (0.1 балла)\n",
        "\n",
        "Сократите ошибку приближения в Задаче 2.1., изменив выражение для аппроксимации производной $f$:\n",
        "\n",
        "${\\dfrac {f(x+h)-f(x-h)}{2h}}$, где $h \\in \\mathbb{R}$ — малое число.\n",
        "\n",
        "Вычислите производную `lambda x: x ** 3` в точке $5$ при $h=10^{-6}$."
      ]
    },
    {
      "cell_type": "code",
      "execution_count": null,
      "id": "2ef85e76",
      "metadata": {},
      "outputs": [],
      "source": []
    },
    {
      "attachments": {},
      "cell_type": "markdown",
      "id": "977c875d",
      "metadata": {
        "id": "977c875d"
      },
      "source": [
        "**Лямбда-исчисление и комбинаторы**\n",
        "\n",
        "*Лямбда-исчисление* — формальная система, разработанная математиком Алонзо Чёрчем. В лямбда-исчислении нет встроенных констант, элементарных операторов, чисел, арифметических операций, условных выражений, циклов — есть только анонимные функции (лямбды). Лямбда-исчисление — это формальный аппарат, способный определить в своих терминах любую языковую конструкцию или алгоритм.\n",
        "\n",
        "Виды *термов* лямбда-исчисления:\n",
        "- переменная `x`,\n",
        "- анонимная функция (λ-абстракция) `λx.t`, где `x` — аргумент функции, `t` — тело функции,\n",
        "- применение функции (аппликация) `fx`, где `f` — функция, `x` — аргумент функции.\n",
        "\n",
        "Переменную `x` называют *связанной переменной*, если она является аргументом анонимной функции `λx.t`. *Комбинатором* называют такую λ-абстракцию, в которой все переменные в теле `t` являются связанными. Запись `λxyz.xyz` эквивалентна записи `λxyz.x(y)(z)`, причём подразумевается, что `x` также является анонимной функцией."
      ]
    },
    {
      "cell_type": "code",
      "execution_count": null,
      "id": "355eb986",
      "metadata": {},
      "outputs": [],
      "source": []
    },
    {
      "attachments": {},
      "cell_type": "markdown",
      "id": "B7Xq07fJv4zD",
      "metadata": {
        "id": "B7Xq07fJv4zD"
      },
      "source": [
        "### Комбинаторы\n",
        "\n",
        "**3.1.** (0.3 балла)\n",
        "\n",
        "Реализуйте следующие комбинаторы:\n",
        "- Identity (I) — $λx.x$\n",
        "- Kestrel (K) — $λxy.x$\n",
        "- Kite (KI) — $λxy.y$\n",
        "- Cardinal (C) — $λfab.fba$\n",
        "- Mockingbird (M) — $λx.xx$\n",
        "\n",
        "Воспользуйтесь реализованными комбинаторами:\n",
        "\n",
        "```python\n",
        "I(42) # 42\n",
        "K(1)(2) # 1\n",
        "KI(1)(2) # 2\n",
        "C(power)(2)(5) # 25\n",
        "C(C(power))(2)(5) # 32\n",
        "M(lambda x: 42) # 42\n",
        "```"
      ]
    },
    {
      "cell_type": "code",
      "execution_count": null,
      "id": "5e561f49",
      "metadata": {},
      "outputs": [],
      "source": []
    },
    {
      "attachments": {},
      "cell_type": "markdown",
      "id": "dd17210b",
      "metadata": {
        "id": "dd17210b"
      },
      "source": [
        "**3.2.** (0.2 балла)\n",
        "\n",
        "Реализуйте комбинатор Vireo (V) — $λabf.fab$. При помощи комбинаторов `Vireo`, `Kestrel`, `Kite` создайте кортеж. Готовые структуры данных использовать нельзя, допустимо использование только функций, их применений и замыканий:\n",
        "\n",
        "```python\n",
        "my_tuple = pair(3)(4)\n",
        "my_tuple(first)  # 3\n",
        "my_tuple(second) # 4\n",
        "```"
      ]
    },
    {
      "cell_type": "code",
      "execution_count": null,
      "id": "caa3469c",
      "metadata": {},
      "outputs": [],
      "source": []
    },
    {
      "attachments": {},
      "cell_type": "markdown",
      "id": "a638d961",
      "metadata": {
        "id": "a638d961"
      },
      "source": [
        "### Булева алгебра\n",
        "\n",
        "**4.1. Декодер булевых переменных** (0.3 балла)\n",
        "\n",
        "Установите переменную `true` равной кобинатору Kestrel (`K`), а переменную `false` равной комбинатору Kite (`KI`). Реализуйте функцию `stringify`, преобразующую значение подаваемого на вход комбинатора в текст \"Да\" или \"Нет\". Пример работы:\n",
        "\n",
        "```python\n",
        "stringify(true) # Да\n",
        "stringify(false) # Нет\n",
        "```"
      ]
    },
    {
      "cell_type": "code",
      "execution_count": null,
      "id": "3e71d0cc",
      "metadata": {},
      "outputs": [],
      "source": []
    },
    {
      "attachments": {},
      "cell_type": "markdown",
      "id": "92a59aa8",
      "metadata": {
        "id": "92a59aa8"
      },
      "source": [
        "**4.2. Инверсия** (0.3 балла)\n",
        "\n",
        "Реализуйте операцию инверсии `inv` при помощи одного из комбинаторов из задачи 3.1. Пример работы:\n",
        "\n",
        "```python\n",
        "stringify(inv(true)) # Нет\n",
        "stringify(inv(inv(inv(false)))) # Да\n",
        "```"
      ]
    },
    {
      "attachments": {},
      "cell_type": "markdown",
      "id": "f8a1c4b0",
      "metadata": {
        "id": "f8a1c4b0"
      },
      "source": [
        "**4.3. Условный оператор** (0.3 балла)\n",
        "\n",
        "Реализуйте уловный оператор `if_then_else` при помощи одного из комбинаторов из задачи 3.1. Пример использования:\n",
        "\n",
        "```python\n",
        "if_then_else(true)(\"Истина\")(\"Ложь\") # Истина\n",
        "```"
      ]
    },
    {
      "attachments": {},
      "cell_type": "markdown",
      "id": "c05f395d",
      "metadata": {
        "id": "c05f395d"
      },
      "source": [
        "**4.4. Операция $\\lor$** (0.3 балла)\n",
        "\n",
        "Реализуйте оператор \"или\", `either`, при помощи одного из комбинаторов из задачи 3.1. Пример использования:\n",
        "\n",
        "```python\n",
        "stringify(either(true)(false)) # Да\n",
        "stringify(either(false)(false)) # Нет\n",
        "```"
      ]
    },
    {
      "attachments": {},
      "cell_type": "markdown",
      "id": "708c5be3",
      "metadata": {
        "id": "708c5be3"
      },
      "source": [
        "**4.5. Операция $\\land$** (0.3 балла)\n",
        "\n",
        "Реализуйте комбинатор \"и\", `both`, имеющий вид $λpq.pqp$. Пример использования:\n",
        "\n",
        "```python\n",
        "stringify(both(true)(true)) # Да\n",
        "stringify(both(false)(true)) # Нет\n",
        "stringify(both(true)(false)) # Нет\n",
        "stringify(both(false)(false)) # Нет\n",
        "```"
      ]
    },
    {
      "attachments": {},
      "cell_type": "markdown",
      "id": "8ce39faf",
      "metadata": {
        "id": "8ce39faf"
      },
      "source": [
        "**4.6. Операция сравнения** (0.3 балла)\n",
        "\n",
        "Реализуйте комбинатор сравнения `eq`, имеющий вид $λpq.pq(inv(q))$. Пример использования:\n",
        "\n",
        "```python\n",
        "stringify(eq(true)(true)) # Да\n",
        "stringify(eq(false)(true)) # Нет\n",
        "stringify(eq(true)(false)) # Нет\n",
        "stringify(eq(false)(false)) # Да\n",
        "```"
      ]
    },
    {
      "attachments": {},
      "cell_type": "markdown",
      "id": "716fb64b",
      "metadata": {
        "id": "716fb64b"
      },
      "source": [
        "**4.7. Y-комбинатор. Комбинатор неподвижной точки**  (0.5 балла)\n",
        "\n",
        "*Неподвижной точкой* функции $f$ в математике называют точку $x_0$, для которой справедливо выражение $f(x_0)=x_0$. *Комбинатор неподвижной точки* $Y$ для любой функции $f$ находит значение $x_0$ такое, что $f(x_0) = x_0$. Иными словами, $Yf = x_0$. Заменив в выражении $f(x_0) = x_0$ переменную $x_0$ на $Y(f)$, получим $f(Yf)=Yf$, что позволит реализовать анонимную рекурсию.\n",
        "\n",
        "Реализуйте комбинатор неподвижной точки Y при помощи анонимных функций `lambda` согласно:\n",
        "\n",
        "${\\displaystyle Y=\\lambda f.(\\lambda x.f\\ (x\\ x))\\ (\\lambda x.f\\ (x\\ x))\\ .}$\n",
        "\n",
        "Реализуйте с помощью Y-комбинатора в одну строку анонимную рекурсию для функции `fact` по формуле:\n",
        "\n",
        "$$\n",
        "f(n) =\n",
        "\\begin{cases}\n",
        "  1 & n = 0\\\\\n",
        "  n \\times f(n - 1) & иначе\n",
        "\\end{cases}\n",
        "$$\n",
        "\n",
        "Получите исключение `RecursionError: maximum recursion depth exceeded`."
      ]
    },
    {
      "attachments": {},
      "cell_type": "markdown",
      "id": "4f7b8f54",
      "metadata": {
        "id": "4f7b8f54"
      },
      "source": [
        "**4.8. Анонимная рекурсия при помощи Z-комбинатора** (0.6 балла)\n",
        "\n",
        "Реализуйте комбинатор неподвижной точки Z при помощи анонимных функций согласно:\n",
        "\n",
        "$Z = λg.(λx.g(λv.xxv))(λx.g(λv.xxv))$\n",
        "\n",
        "Реализуйте с помощью Z-комбинатора в одну строку анонимную рекурсию для функции `fact` из задачи 4.7. Вычислите `fact(5)`."
      ]
    },
    {
      "attachments": {},
      "cell_type": "markdown",
      "id": "iXIIOvF74NaX",
      "metadata": {
        "id": "iXIIOvF74NaX"
      },
      "source": [
        "**Итого за всю работу 4.2 балла.**"
      ]
    }
  ],
  "metadata": {
    "colab": {
      "provenance": []
    },
    "kernelspec": {
      "display_name": "Python 3 (ipykernel)",
      "language": "python",
      "name": "python3"
    },
    "language_info": {
      "codemirror_mode": {
        "name": "ipython",
        "version": 3
      },
      "file_extension": ".py",
      "mimetype": "text/x-python",
      "name": "python",
      "nbconvert_exporter": "python",
      "pygments_lexer": "ipython3",
      "version": "3.11.1"
    }
  },
  "nbformat": 4,
  "nbformat_minor": 5
}
