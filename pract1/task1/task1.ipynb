{
 "cells": [
  {
   "attachments": {},
   "cell_type": "markdown",
   "metadata": {},
   "source": [
    "**1.1.** (уровень сложности: простейший)\n",
    "\n",
    "В реализации Питона спрятано несколько «пасхальных яиц». С одним из них мы уже сталкивались, это import this. Есть (1) как-то связанное с гравитацией. И еще одно (2), для тех, кто ленится написать даже самую первую программу, а также (3) для любителей языков программирования с непохожим на Питон синтаксисом. А еще (4) есть сюрприз для тех, кто хотел бы сравнивать объекты, как в Паскале. Удастся ли вам все это обнаружить?"
   ]
  },
  {
   "cell_type": "code",
   "execution_count": 11,
   "metadata": {},
   "outputs": [],
   "source": [
    "# 1.1.\n",
    "#import antigravity  # (1)\n",
    "#import __hello__    # (2)\n",
    "#from __future__ import braces          # (3)?\n",
    "#from __future__ import barry_as_FLUFL  # (4)\n"
   ]
  }
 ],
 "metadata": {
  "kernelspec": {
   "display_name": "Python 3",
   "language": "python",
   "name": "python3"
  },
  "language_info": {
   "codemirror_mode": {
    "name": "ipython",
    "version": 3
   },
   "file_extension": ".py",
   "mimetype": "text/x-python",
   "name": "python",
   "nbconvert_exporter": "python",
   "pygments_lexer": "ipython3",
   "version": "3.10.2"
  },
  "orig_nbformat": 4,
  "vscode": {
   "interpreter": {
    "hash": "26de051ba29f2982a8de78e945f0abaf191376122a1563185a90213a26c5da77"
   }
  }
 },
 "nbformat": 4,
 "nbformat_minor": 2
}
