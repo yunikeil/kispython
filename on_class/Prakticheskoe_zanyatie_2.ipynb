{
  "cells": [
    {
      "cell_type": "markdown",
      "id": "2991604c",
      "metadata": {
        "id": "2991604c"
      },
      "source": [
        "### Практическое занятие №2.\n",
        "\n",
        "#### Работа с вещественными числами и векторами"
      ]
    },
    {
      "cell_type": "markdown",
      "id": "i4M8uGalVFHa",
      "metadata": {
        "id": "i4M8uGalVFHa"
      },
      "source": [
        "**При решении следующих задач предлагается выполнять автоматическую проверку синтаксиса кода в соответствии со стандартом PEP8. Такая практика поможет Вам научиться писать код на языке Python сразу без синтаксических ошибок!**"
      ]
    },
    {
      "cell_type": "code",
      "execution_count": null,
      "id": "EOMTN8Q3TLkL",
      "metadata": {
        "id": "EOMTN8Q3TLkL"
      },
      "outputs": [],
      "source": [
        "# установка библиотеки для проверки кода на соответствие PEP8\n",
        "pip install flake8 pycodestyle_magic"
      ]
    },
    {
      "cell_type": "code",
      "execution_count": null,
      "id": "J6JBh5b4TOx0",
      "metadata": {
        "id": "J6JBh5b4TOx0"
      },
      "outputs": [],
      "source": [
        "# теперь код будет проверяться на соответствие PEP8\n",
        "%load_ext pycodestyle_magic\n",
        "%pycodestyle_on"
      ]
    },
    {
      "cell_type": "markdown",
      "id": "6c08756a",
      "metadata": {
        "id": "6c08756a"
      },
      "source": [
        "$1.$ \"Повторение - мать учения!\" :) Вычислить значение итерационной функции:\n",
        "\n",
        "$$\n",
        "\\begin{align}\n",
        "f(n, m) = 22\\sum_{i=1}^{n}\\sum_{j=1}^{m}(\\lceil i \\rceil-76j)-\\frac{\\sum_{i=1}^{n}\\sum_{j=1}^{m}(42j+90j^4-8)}{31}\n",
        "\\end{align}\n",
        "$$\n",
        "\n",
        "Внешние тесты:\n",
        "\n",
        "*   $f(88,80)=-1.73e+11$\n",
        "*   $f(21,83)=-4.96e+10$\n",
        "\n",
        "Код должен соответствовать PEP8."
      ]
    },
    {
      "cell_type": "code",
      "execution_count": 37,
      "id": "LPnNo4tCdSOV",
      "metadata": {
        "id": "LPnNo4tCdSOV"
      },
      "outputs": [
        {
          "name": "stdout",
          "output_type": "stream",
          "text": [
            "-173180034209.03226\n"
          ]
        }
      ],
      "source": [
        "from math import ceil\n",
        "\n",
        "\n",
        "def f(n, m):\n",
        "  sum1 = 0\n",
        "  for i in range(1, n+1):\n",
        "    for j in range(1, m+1):\n",
        "      sum1 += ceil(i) - 76 * j\n",
        "  sum2 = 0\n",
        "  for i in range(1, n+1):\n",
        "    for j in range(1, m+1):\n",
        "      sum2 += 42 * j + 90 * j ** 4 - 8\n",
        "  return 22 * sum1 - sum2 / 31\n",
        "\n",
        "n = int(input())\n",
        "m = int(input())\n",
        "print(f(n, m))\n"
      ]
    },
    {
      "cell_type": "markdown",
      "id": "f07fc805",
      "metadata": {
        "id": "f07fc805"
      },
      "source": [
        "$2.$ \"Повторение - мать учения!\"x2 :D Вычислить значение рекуррентной функции:\n",
        "\n",
        "$$\n",
        "\\begin{align}\n",
        "f(n) = \\frac{1}{45}f(n-2)^3+cos(f(n-1)),\n",
        "\\end{align}\n",
        "$$\n",
        "\n",
        "при $f(0)=6, f(1)=4$.\n",
        "\n",
        "Внешние тесты:\n",
        "\n",
        "*   $f(12)=7.94e-01$\n",
        "*   $f(2)=4.15e+00$\n",
        "\n",
        "Код должен соответствовать PEP8."
      ]
    },
    {
      "cell_type": "code",
      "execution_count": 38,
      "id": "19256ffa",
      "metadata": {
        "id": "19256ffa"
      },
      "outputs": [
        {
          "name": "stdout",
          "output_type": "stream",
          "text": [
            "0.7940608449452473\n"
          ]
        }
      ],
      "source": [
        "from math import cos\n",
        "\n",
        "\n",
        "def f(n):\n",
        "  if n == 0:\n",
        "    return 6\n",
        "  if n == 1:\n",
        "    return 4\n",
        "  return f(n - 2) ** 3 / 45 + cos(f(n - 1))\n",
        "\n",
        "n = int(input())\n",
        "print(f(n))\n"
      ]
    },
    {
      "cell_type": "markdown",
      "id": "9ba51677",
      "metadata": {
        "id": "9ba51677"
      },
      "source": [
        "Пусть даны два вектора $\\vec{y} \\in \\mathbb{R}^n$ и $\\vec{z} \\in \\mathbb{R}^n$, векторы имеют вид $\\vec{y}=(y_1,y_2,\\dots,y_n)$ и $\\vec{z}=(z_1,z_2,\\dots,z_n)$. С помощью Python:\n",
        "\n",
        "$3.$ Вычислить евклидово расстояние [[1]](https://ru.wikipedia.org/wiki/%D0%95%D0%B2%D0%BA%D0%BB%D0%B8%D0%B4%D0%BE%D0%B2%D0%B0_%D0%BC%D0%B5%D1%82%D1%80%D0%B8%D0%BA%D0%B0) между двумя векторами $\\vec{y}$ и $\\vec{z}$:\n",
        "\n",
        "$$\n",
        "\\begin{align}\n",
        "d_1(\\vec{y}, \\vec{z}) = \\sqrt{\\sum_{i=1}^{n} (y_i - z_i)^2},\n",
        "\\end{align}\n",
        "$$\n",
        "\n",
        "при $\\vec{y} = (1, 0.5, 1)$, $\\vec{z} = (0.5, 2, 1)$.\n",
        "\n",
        "Внешний тест:\n",
        "\n",
        "* $d_1(\\vec{y}, \\vec{z}) = 1.58e+00$\n",
        "\n",
        "Код должен соответствовать PEP8."
      ]
    },
    {
      "cell_type": "code",
      "execution_count": 39,
      "id": "e6d52b51",
      "metadata": {
        "id": "e6d52b51"
      },
      "outputs": [
        {
          "name": "stdout",
          "output_type": "stream",
          "text": [
            "1.5811388300841898\n"
          ]
        }
      ],
      "source": [
        "from math import sqrt\n",
        "\n",
        "\n",
        "def d1(y, z):\n",
        "  sum = 0\n",
        "  for i in range(len(y)):\n",
        "    sum += (y[i] - z[i]) ** 2\n",
        "  return sqrt(sum)\n",
        "\n",
        "y = [1, 0.5, 1]\n",
        "z = [0.5, 2, 1]\n",
        "print(d1(y, z))"
      ]
    },
    {
      "cell_type": "markdown",
      "id": "0f15f5bf",
      "metadata": {
        "id": "0f15f5bf"
      },
      "source": [
        "$4.$ Вычислить манхэттенское расстояние [[2]](https://ru.wikipedia.org/wiki/%D0%A0%D0%B0%D1%81%D1%81%D1%82%D0%BE%D1%8F%D0%BD%D0%B8%D0%B5_%D0%B3%D0%BE%D1%80%D0%BE%D0%B4%D1%81%D0%BA%D0%B8%D1%85_%D0%BA%D0%B2%D0%B0%D1%80%D1%82%D0%B0%D0%BB%D0%BE%D0%B2) между двумя векторами $\\vec{y}$ и $\\vec{z}$:\n",
        "\n",
        "$$\n",
        "\\begin{align}\n",
        "d_2(\\vec{y}, \\vec{z}) = \\sum_{i=1}^{n} |y_i - z_i|,\n",
        "\\end{align}\n",
        "$$\n",
        "\n",
        "при $\\vec{y} = (1, 0.5, 1)$, $\\vec{z} = (0.5, 2, 1)$.\n",
        "\n",
        "Внешний тест:\n",
        "\n",
        "* $d_2(\\vec{y}, \\vec{z}) = 2.0$\n",
        "\n",
        "Код должен соответствовать PEP8."
      ]
    },
    {
      "cell_type": "code",
      "execution_count": 41,
      "id": "f870f7fc",
      "metadata": {
        "id": "f870f7fc"
      },
      "outputs": [
        {
          "name": "stdout",
          "output_type": "stream",
          "text": [
            "2.0\n"
          ]
        }
      ],
      "source": [
        "def d2(y, z):\n",
        "  sum = 0\n",
        "  for i in range(len(y)):\n",
        "    sum += abs(y[i] - z[i])\n",
        "  return sum\n",
        "\n",
        "y = [1, 0.5, 1]\n",
        "z = [0.5, 2, 1]\n",
        "print(d2(y, z))"
      ]
    },
    {
      "cell_type": "markdown",
      "id": "33e7f70e",
      "metadata": {
        "id": "33e7f70e"
      },
      "source": [
        "$5.$ Вычислить расстояние Чебышёва [[3]](https://ru.wikipedia.org/wiki/%D0%A0%D0%B0%D1%81%D1%81%D1%82%D0%BE%D1%8F%D0%BD%D0%B8%D0%B5_%D0%A7%D0%B5%D0%B1%D1%8B%D1%88%D1%91%D0%B2%D0%B0) между двумя векторами $\\vec{y}$ и $\\vec{z}$:\n",
        "\n",
        "$$\n",
        "\\begin{align}\n",
        "d_3(\\vec{y}, \\vec{z}) = \\max |y_i - z_i|,\n",
        "\\end{align}\n",
        "$$\n",
        "\n",
        "при $\\vec{y} = (1, 0.5, 1)$, $\\vec{z} = (0.5, 2, 1)$.\n",
        "\n",
        "Внешний тест:\n",
        "\n",
        "* $d_3(\\vec{y}, \\vec{z}) = 1.5$\n",
        "\n",
        "Код должен соответствовать PEP8."
      ]
    },
    {
      "cell_type": "code",
      "execution_count": 42,
      "id": "928e1d1b",
      "metadata": {
        "id": "928e1d1b"
      },
      "outputs": [
        {
          "name": "stdout",
          "output_type": "stream",
          "text": [
            "1.5\n"
          ]
        }
      ],
      "source": [
        "from decimal import Decimal\n",
        "\n",
        "\n",
        "def main(y, z):\n",
        "    res = []\n",
        "    for i in range(min([len(y), len(z)])):\n",
        "        res.append(abs(y[i]-z[i]))\n",
        "    return max(res)\n",
        "\n",
        "\n",
        "if __name__ == \"__main__\":\n",
        "    y = [1, 0.5, 1]\n",
        "    z = [0.5, 2, 1]\n",
        "    print(main(y, z))"
      ]
    },
    {
      "cell_type": "markdown",
      "id": "462b624b",
      "metadata": {
        "id": "462b624b"
      },
      "source": [
        "$6.$ Вычислить квадрат евклидового расстояния (применяется, когда необходимо придать большие значения весовым коэффицинтам наиболее отдалённых друг от друга объектов, если, например, речь идёт о кластеризации данных [[4]](https://ru.wikipedia.org/wiki/%D0%9A%D0%BB%D0%B0%D1%81%D1%82%D0%B5%D1%80%D0%BD%D1%8B%D0%B9_%D0%B0%D0%BD%D0%B0%D0%BB%D0%B8%D0%B7)) между двумя векторами $\\vec{y}$ и $\\vec{z}$:\n",
        "\n",
        "$$\n",
        "\\begin{align}\n",
        "d_4(\\vec{y}, \\vec{z}) = \\sum_{i=1}^{n} (y_i - z_i)^2,\n",
        "\\end{align}\n",
        "$$\n",
        "\n",
        "при $\\vec{y} = (1, 0.5, 1)$, $\\vec{z} = (0.5, 2, 1)$.\n",
        "\n",
        "Внешний тест:\n",
        "\n",
        "* $d_4(\\vec{y}, \\vec{z}) = 2.5$\n",
        "\n",
        "Код должен соответствовать PEP8."
      ]
    },
    {
      "cell_type": "code",
      "execution_count": 3,
      "id": "4dbfd8af",
      "metadata": {
        "id": "4dbfd8af"
      },
      "outputs": [
        {
          "name": "stdout",
          "output_type": "stream",
          "text": [
            "2.5\n"
          ]
        }
      ],
      "source": [
        "from decimal import Decimal\n",
        "\n",
        "\n",
        "def main(y, z):\n",
        "    res = []\n",
        "    for i in range(min([len(y), len(z)])):\n",
        "        res.append((y[i]-z[i])**2)\n",
        "    return sum(res)\n",
        "\n",
        "\n",
        "if __name__ == \"__main__\":\n",
        "    y = [1, 0.5, 1]\n",
        "    z = [0.5, 2, 1]\n",
        "    print(main(y, z))"
      ]
    },
    {
      "cell_type": "markdown",
      "id": "b76cbfd5",
      "metadata": {
        "id": "b76cbfd5"
      },
      "source": [
        "$7.$ Вычислить расстояние Минковского [[5]](https://ru.wikipedia.org/wiki/%D0%A0%D0%B0%D1%81%D1%81%D1%82%D0%BE%D1%8F%D0%BD%D0%B8%D0%B5_%D0%9C%D0%B8%D0%BD%D0%BA%D0%BE%D0%B2%D1%81%D0%BA%D0%BE%D0%B3%D0%BE) между двумя векторами $\\vec{y}$ и $\\vec{z}$:\n",
        "\n",
        "\n",
        "$$\n",
        "\\begin{align}\n",
        "d_5(\\vec{y}, \\vec{z}) = \\left(\\sum_{i=1}^{n} |y_i - z_i|^h\\right)^{{1}/{h}},\n",
        "\\end{align}\n",
        "$$\n",
        "\n",
        "при $\\vec{y} = (1, 0.5, 1)$, $\\vec{z} = (0.5, 2, 1)$ для $h = 5$.\n",
        "\n",
        "Внешний тест:\n",
        "\n",
        "* $d_5(\\vec{y}, \\vec{z}) = 1.501e+00$\n",
        "\n",
        "Код должен соответствовать PEP8."
      ]
    },
    {
      "cell_type": "code",
      "execution_count": 15,
      "id": "4326190a",
      "metadata": {
        "id": "4326190a"
      },
      "outputs": [
        {
          "data": {
            "text/plain": [
              "'\\nif __name__ == \"__main__\":\\n    y = [1, 0.5, 1]\\n    z = [0.5, 2, 1]\\n    print(main(y, z))'"
            ]
          },
          "execution_count": 15,
          "metadata": {},
          "output_type": "execute_result"
        }
      ],
      "source": [
        "from decimal import Decimal\n",
        "\n",
        "\n",
        "def main123(y, z):\n",
        "    h = 5\n",
        "    res = []\n",
        "    for i in range(min([len(y), len(z)])):\n",
        "        res.append(abs(y[i]-z[i]) ** h)\n",
        "    return sum(res) ** (1/h)\n",
        "\n",
        "\n",
        "if __name__ == \"__main__\":\n",
        "    y = [1, 0.5, 1]\n",
        "    z = [0.5, 2, 1]\n",
        "    print(main(y, z))"
      ]
    },
    {
      "cell_type": "markdown",
      "id": "385ee54e",
      "metadata": {
        "id": "385ee54e"
      },
      "source": [
        "$8.$ `matplotlib` — библиотека на Python для визуализации данных. Полученные с помощью библиотеки `matplotlib` изображения часто используются в научных публикациях, в графическом интерфейсе пользователя в веб-приложениях, мобильных приложениях, приложениях для ПК. Функция, позволяющая сравнить абсолютные значения штрафов реализованных мер расстояния при удалении векторов друг от друга, реализованная с помощью `matplotlib`, имеет вид:"
      ]
    },
    {
      "cell_type": "code",
      "execution_count": 8,
      "id": "7f4d8d54",
      "metadata": {
        "id": "7f4d8d54"
      },
      "outputs": [],
      "source": [
        "import matplotlib.pyplot as matplotlib\n",
        "\n",
        "\n",
        "def visualize(distance_metrics, y, z, move=1):\n",
        "    moved_z = [i + move for i in z]\n",
        "    distance_differences = []\n",
        "    for distance in distance_metrics:\n",
        "        distance_before_move = distance(y, z)\n",
        "        distance_after_move = distance(y, moved_z)\n",
        "        distance_difference = distance_after_move - distance_before_move\n",
        "        distance_differences.append(distance_difference)\n",
        "    x = range(0, len(distance_differences))\n",
        "    figure, axis = matplotlib.subplots()\n",
        "\n",
        "    # построение гистограммы с подписями\n",
        "    axis.bar(x, distance_differences)\n",
        "    axis.set_xticks(x, labels=[f'd_{i + 1}' for i in x])"
      ]
    },
    {
      "cell_type": "markdown",
      "id": "6c211285",
      "metadata": {
        "id": "6c211285"
      },
      "source": [
        "Вызовите функцию `visualize`, передав в качестве аргументов реализованные меры расстояний и два вектора:\n",
        "\n",
        "$\\vec{y} = (1, 0.5, 1)$, $\\vec{z} = (0.5, 2, 1)$.\n",
        "\n",
        "Сравните результаты при различных значениях параметра `move`, например, при $1, 0.01, 1.5$."
      ]
    },
    {
      "cell_type": "code",
      "execution_count": 43,
      "id": "15764f8c",
      "metadata": {
        "id": "15764f8c"
      },
      "outputs": [
        {
          "data": {
            "image/png": "[encoded data removed]",
            "text/plain": [
              "<Figure size 640x480 with 1 Axes>"
            ]
          },
          "metadata": {},
          "output_type": "display_data"
        },
        {
          "data": {
            "image/png": "[encoded data removed]",
            "text/plain": [
              "<Figure size 640x480 with 1 Axes>"
            ]
          },
          "metadata": {},
          "output_type": "display_data"
        },
        {
          "data": {
            "image/png": "[encoded data removed]",
            "text/plain": [
              "<Figure size 640x480 with 1 Axes>"
            ]
          },
          "metadata": {},
          "output_type": "display_data"
        }
      ],
      "source": [
        "from math import sqrt\n",
        "\n",
        "\n",
        "def d1(y, z):\n",
        "  sum = 0\n",
        "  for i in range(len(y)):\n",
        "    sum += (y[i] - z[i]) ** 2\n",
        "  return sqrt(sum)\n",
        "\n",
        "def d2(y, z):\n",
        "  sum = 0\n",
        "  for i in range(len(y)):\n",
        "    sum += abs(y[i] - z[i])\n",
        "  return sum\n",
        "\n",
        "def d3(y, z):\n",
        "  res = []\n",
        "  for i in range(min([len(y), len(z)])):\n",
        "    res.append(abs(y[i]-z[i]))\n",
        "  return max(res)\n",
        "\n",
        "def d4(y, z):\n",
        "  res = []\n",
        "  for i in range(min([len(y), len(z)])):\n",
        "    res.append((y[i]-z[i])**2)\n",
        "  return sum(res)\n",
        "\n",
        "def d5(y, z):\n",
        "  h = 5\n",
        "  res = []\n",
        "  for i in range(min([len(y), len(z)])):\n",
        "    res.append(abs(y[i]-z[i]) ** h)\n",
        "  return sum(res) ** (1/h)\n",
        "\n",
        "y = [1, 0.5, 1]\n",
        "z = [0.5, 2, 1]\n",
        "mass = [d1, d2, d3, d4, d5]\n",
        "visualize(mass, y, z, 1)\n",
        "visualize(mass, y, z, 0.01)\n",
        "visualize(mass, y, z, 1.5)"
      ]
    },
    {
      "cell_type": "markdown",
      "id": "4a26e843",
      "metadata": {
        "id": "4a26e843"
      },
      "source": [
        "#### Работа со строками\n",
        "\n",
        "Пусть дан набор `words` из $n$ строк $(s_1, s_2, ..., s_n)$."
      ]
    },
    {
      "cell_type": "code",
      "execution_count": 20,
      "id": "6027ea98",
      "metadata": {
        "id": "6027ea98"
      },
      "outputs": [],
      "source": [
        "words = [\"language!\", \"programming\", \"Python\", \"the\", \"love\", \"I\"]"
      ]
    },
    {
      "cell_type": "markdown",
      "id": "654c976a",
      "metadata": {
        "id": "654c976a"
      },
      "source": [
        "$9.$ Реализовать функцию, разворачивающую подаваемый на вход список и преобразующую результат в строку, разделённую пробелами. Полученная строка не должна заканчиваться пробелом. Код должен соответствовать PEP8."
      ]
    },
    {
      "cell_type": "code",
      "execution_count": 35,
      "id": "8c6aa2b5",
      "metadata": {
        "id": "8c6aa2b5"
      },
      "outputs": [],
      "source": [
        "string_w= \" \".join(words[::-1])"
      ]
    },
    {
      "cell_type": "markdown",
      "id": "3cfaf1fd",
      "metadata": {
        "id": "3cfaf1fd"
      },
      "source": [
        "$10.$ Реализовать функцию $f(s, c)$, вычисляющую, сколько раз символ $c$ встречается в полученной в задаче 9 строке $s$. Используя полученную функцию $f(s, c)$ реализовать функцию `count_characters`, возвращающую словарь `{}`, в котором ключами являются символы $c_i$, а значениями являются результаты выполнения функции $f(s, c_i)$. Буквы в разном регистре (например, `I` и `i`) считаются одним и тем же символом, пробелы не учитываются."
      ]
    },
    {
      "cell_type": "code",
      "execution_count": 36,
      "id": "9dc9e56a",
      "metadata": {
        "id": "9dc9e56a"
      },
      "outputs": [
        {
          "name": "stdout",
          "output_type": "stream",
          "text": [
            "{'i': 2, 'l': 2, 'o': 3, 'v': 1, 'e': 3, 't': 2, 'h': 2, 'p': 2, 'y': 1, 'n': 3, 'r': 2, 'g': 4, 'a': 3, 'm': 2, 'u': 1, '!': 1}\n"
          ]
        }
      ],
      "source": [
        "\n",
        "def f(s, c):\n",
        "    \"\"\"\n",
        "    Символ c\\n\n",
        "    Строка s\n",
        "    \"\"\"\n",
        "    return s.count(c)\n",
        "\n",
        "def count_characters() -> dict:\n",
        "    str_w = string_w.lower().replace(' ', '')\n",
        "    res: dict = {}\n",
        "    for letter in str_w:\n",
        "        try:\n",
        "            res[letter] = res[letter] + 1\n",
        "        except KeyError:\n",
        "            res[letter] = 1\n",
        "    return res\n",
        "    ...\n",
        "\n",
        "\n",
        "print(count_characters())"
      ]
    },
    {
      "cell_type": "markdown",
      "id": "c093b4ab",
      "metadata": {
        "id": "c093b4ab"
      },
      "source": [
        "$11.$ Каким образом поисковым системам удаётся находить подходящие результаты даже если пользователь допускает одну или несколько опечаток? Каким образом можно определить, насколько похожи две различные последовательности символов? Одним из способов определения сходства последовательностей является расстояние Левенштейна [[6]](https://ru.wikipedia.org/wiki/%D0%A0%D0%B0%D1%81%D1%81%D1%82%D0%BE%D1%8F%D0%BD%D0%B8%D0%B5_%D0%9B%D0%B5%D0%B2%D0%B5%D0%BD%D1%88%D1%82%D0%B5%D0%B9%D0%BD%D0%B0).\n",
        "\n",
        "Формула вычисления расстояния Левенштейна имеет вид:\n",
        "\n",
        "$$\n",
        "f\\left(\\mathbf{a}, \\mathbf{b}, i, j\\right)=\\left\\{\n",
        "    {\\begin{array}\n",
        "        {llcl}\n",
        "        \\max\\left(i, j\\right),&&&i=0\\ или\\ j=0\\\\\n",
        "        f(\\mathbf{a}, \\mathbf{b}, i-1, j-1),&&&a_{i-1}=b_{j-1}\\\\\n",
        "        1 + \\min\\left(\n",
        "            f\\left(\\mathbf{a}, \\mathbf{b}, i, j-1\\right),\n",
        "            f\\left(\\mathbf{a}, \\mathbf{b}, i-1,j\\right),\n",
        "            f\\left(\\mathbf{a}, \\mathbf{b}, i-1,j-1\\right)\n",
        "        \\right),&&&иначе\n",
        "    \\end{array}\n",
        "}\\right.\n",
        "$$\n",
        "\n",
        "где $\\mathbf{a}$ и $\\mathbf{b}$ — сравниваемые последовательности символов, например, строки;  \n",
        "$i$ и $j$ — номера удаления и вставки соответственно;  \n",
        "$a_{i-1}$ — $(i-1)$-й символ в строке $\\mathbf{a}$;  \n",
        "$b_{j-1}$ — $(j-1)$-й символ в строке $\\mathbf{b}$.\n",
        "\n",
        "Реализуйте расстояние Левенштейна на Python по рекуррентной формуле выше.\n",
        "\n",
        "Сравните попарно следующие строки:\n",
        "\n",
        "- `Hello, world!` и `Goodbye, world!`,\n",
        "- `Hello, world!` и `Bye, world!`,\n",
        "- `I love Python` и `I like Python`,\n",
        "- `100101` и `100011`.\n",
        "\n",
        "С помощью модуля `timeit` измерьте производительность реализованного алгоритма для строк различной длины [[7]](https://pythonim.ru/moduli/timeit-python?ysclid=le4d6bsljs675537254). Попробуйте улучшить производительность полученного кода, заменив рекурсивные вызовы циклами, или использовав **собственные** методы мемоизации [[8]](https://ru.wikipedia.org/wiki/%D0%9C%D0%B5%D0%BC%D0%BE%D0%B8%D0%B7%D0%B0%D1%86%D0%B8%D1%8F). Установите пакет `python-Levenshtein` [[9]](https://www.codecamp.ru/blog/levenshtein-distance-in-python/?ysclid=le4gfgc4eh105176740), содержащий реализацию расстояния Левенштейна на языке C, и измерьте производительность библиотечной реализации."
      ]
    },
    {
      "cell_type": "code",
      "execution_count": null,
      "id": "2c4493c5",
      "metadata": {
        "id": "2c4493c5"
      },
      "outputs": [],
      "source": []
    },
    {
      "cell_type": "markdown",
      "id": "j54q7i1HX2ew",
      "metadata": {
        "id": "j54q7i1HX2ew"
      },
      "source": [
        "**Выполнение данных заданий в течение практического занятия №2 даёт возможность получить следующие баллы:**\n",
        "\n",
        "*   ***Задачи №1-10: 0.5 балла***\n",
        "*   ***Задачи №1-11: 1 балл***\n"
      ]
    }
  ],
  "metadata": {
    "colab": {
      "provenance": []
    },
    "kernelspec": {
      "display_name": "Python 3 (ipykernel)",
      "language": "python",
      "name": "python3"
    },
    "language_info": {
      "codemirror_mode": {
        "name": "ipython",
        "version": 3
      },
      "file_extension": ".py",
      "mimetype": "text/x-python",
      "name": "python",
      "nbconvert_exporter": "python",
      "pygments_lexer": "ipython3",
      "version": "3.9.7"
    }
  },
  "nbformat": 4,
  "nbformat_minor": 5
}
